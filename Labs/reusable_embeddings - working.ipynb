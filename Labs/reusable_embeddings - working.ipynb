{
 "cells": [
  {
   "cell_type": "markdown",
   "metadata": {},
   "source": [
    "# Reusable Embeddings\n",
    "\n",
    "**Learning Objectives**\n",
    "1. Learn how to use a pre-trained TF Hub text modules to generate sentence vectors.\n",
    "1. Learn how to incorporate a pre-trained TF-Hub module into a Keras model.\n",
    "1. Learn how to deploy and use a text model on CAIP. \n",
    "\n",
    "\n",
    "\n",
    "## Introduction\n",
    "\n",
    "\n",
    "In this notebook, we will implement text models to recognize the probable source (Github, Tech-Crunch, or The New-York Times) of the titles we have in the title dataset.\n",
    "\n",
    "First, we will load and pre-process the texts and labels so that they are suitable to be fed to sequential Keras models with first layer being TF-hub pre-trained modules. Thanks to this first layer, we won't need to tokenize and integerize the text before passing it to our models. The pre-trained layer will take care of that for us, and consume directly raw text. However, we will still have to one-hot-encode each of the 3 classes into a 3 dimensional basis vector.\n",
    "\n",
    "Then we will build, train and compare simple DNN models starting with different pre-trained TF-Hub layers."
   ]
  },
  {
   "cell_type": "code",
   "execution_count": 1,
   "metadata": {
    "tags": []
   },
   "outputs": [],
   "source": [
    "import os\n",
    "\n",
    "from google.cloud import bigquery\n",
    "import pandas as pd"
   ]
  },
  {
   "cell_type": "code",
   "execution_count": 2,
   "metadata": {
    "tags": []
   },
   "outputs": [
    {
     "name": "stdout",
     "output_type": "stream",
     "text": [
      "The google.cloud.bigquery extension is already loaded. To reload it, use:\n",
      "  %reload_ext google.cloud.bigquery\n"
     ]
    }
   ],
   "source": [
    "%load_ext google.cloud.bigquery"
   ]
  },
  {
   "cell_type": "markdown",
   "metadata": {},
   "source": [
    "Replace the variable values in the cell below:"
   ]
  },
  {
   "cell_type": "code",
   "execution_count": 63,
   "metadata": {
    "tags": []
   },
   "outputs": [],
   "source": [
    "PROJECT = \"qwiklabs-gcp-04-3886b4f1d70f\"  # Replace with your PROJECT\n",
    "BUCKET = PROJECT \n",
    "REGION = \"us-central1\"\n",
    "#REGION = \"us-central1-a\"\n",
    "os.environ['PROJECT'] = PROJECT\n",
    "os.environ['BUCKET'] = BUCKET\n",
    "os.environ['REGION'] = REGION"
   ]
  },
  {
   "cell_type": "markdown",
   "metadata": {},
   "source": [
    "## Create a Dataset from BigQuery \n",
    "\n",
    "Hacker news headlines are available as a BigQuery public dataset. The [dataset](https://bigquery.cloud.google.com/table/bigquery-public-data:hacker_news.stories?tab=details) contains all headlines from the sites inception in October 2006 until October 2015. \n",
    "\n",
    "Here is a sample of the dataset:"
   ]
  },
  {
   "cell_type": "code",
   "execution_count": 4,
   "metadata": {
    "tags": []
   },
   "outputs": [
    {
     "data": {
      "application/vnd.jupyter.widget-view+json": {
       "model_id": "d256a591f0cf45988ddd2d50028f39c4",
       "version_major": 2,
       "version_minor": 0
      },
      "text/plain": [
       "Query is running:   0%|          |"
      ]
     },
     "metadata": {},
     "output_type": "display_data"
    },
    {
     "data": {
      "application/vnd.jupyter.widget-view+json": {
       "model_id": "90a0f4049c0c4b7986580c44c44844fa",
       "version_major": 2,
       "version_minor": 0
      },
      "text/plain": [
       "Downloading:   0%|          |"
      ]
     },
     "metadata": {},
     "output_type": "display_data"
    },
    {
     "data": {
      "text/html": [
       "<div>\n",
       "<style scoped>\n",
       "    .dataframe tbody tr th:only-of-type {\n",
       "        vertical-align: middle;\n",
       "    }\n",
       "\n",
       "    .dataframe tbody tr th {\n",
       "        vertical-align: top;\n",
       "    }\n",
       "\n",
       "    .dataframe thead th {\n",
       "        text-align: right;\n",
       "    }\n",
       "</style>\n",
       "<table border=\"1\" class=\"dataframe\">\n",
       "  <thead>\n",
       "    <tr style=\"text-align: right;\">\n",
       "      <th></th>\n",
       "      <th>url</th>\n",
       "      <th>title</th>\n",
       "      <th>score</th>\n",
       "    </tr>\n",
       "  </thead>\n",
       "  <tbody>\n",
       "    <tr>\n",
       "      <th>0</th>\n",
       "      <td>https://postgresml.org/user_guides/transformer...</td>\n",
       "      <td>Show HN: PostgresML integrates Hugging Face to...</td>\n",
       "      <td>14</td>\n",
       "    </tr>\n",
       "    <tr>\n",
       "      <th>1</th>\n",
       "      <td>http://www.jvmhost.com/articles/memory-usage-c...</td>\n",
       "      <td>JVM Host - Memory usage comparison of Java App...</td>\n",
       "      <td>15</td>\n",
       "    </tr>\n",
       "    <tr>\n",
       "      <th>2</th>\n",
       "      <td>http://quoterobot.com</td>\n",
       "      <td>Show HN: QuoteRobot Rebuilt In Python/Flask/Mo...</td>\n",
       "      <td>18</td>\n",
       "    </tr>\n",
       "    <tr>\n",
       "      <th>3</th>\n",
       "      <td>http://shoutfast.com</td>\n",
       "      <td>Show HN: I made this: ShoutFast</td>\n",
       "      <td>32</td>\n",
       "    </tr>\n",
       "    <tr>\n",
       "      <th>4</th>\n",
       "      <td>http://bribe.io/</td>\n",
       "      <td>Bribe developers to fix bugs</td>\n",
       "      <td>38</td>\n",
       "    </tr>\n",
       "    <tr>\n",
       "      <th>5</th>\n",
       "      <td>http://chronicle.com/article/Coursera-Throws-a...</td>\n",
       "      <td>John Doerr: Coursera 'Could Be Big The Way Goo...</td>\n",
       "      <td>49</td>\n",
       "    </tr>\n",
       "    <tr>\n",
       "      <th>6</th>\n",
       "      <td>http://legacy.earlham.edu/~peters/writing/infa...</td>\n",
       "      <td>A Crash Course in the Mathematics Of Infinite ...</td>\n",
       "      <td>51</td>\n",
       "    </tr>\n",
       "    <tr>\n",
       "      <th>7</th>\n",
       "      <td>http://blog.kaelig.fr/post/51078221503/apple-i...</td>\n",
       "      <td>Apple Is Using Sass, And They’re Doing It Wrong</td>\n",
       "      <td>71</td>\n",
       "    </tr>\n",
       "    <tr>\n",
       "      <th>8</th>\n",
       "      <td>https://bugs.ruby-lang.org/issues/8339</td>\n",
       "      <td>Generational Garbage Collection for Ruby 2.1</td>\n",
       "      <td>85</td>\n",
       "    </tr>\n",
       "    <tr>\n",
       "      <th>9</th>\n",
       "      <td>http://jackwmorgan.com/ok-glass</td>\n",
       "      <td>Ok, glass – new Google Glass concepts</td>\n",
       "      <td>89</td>\n",
       "    </tr>\n",
       "  </tbody>\n",
       "</table>\n",
       "</div>"
      ],
      "text/plain": [
       "                                                 url  \\\n",
       "0  https://postgresml.org/user_guides/transformer...   \n",
       "1  http://www.jvmhost.com/articles/memory-usage-c...   \n",
       "2                              http://quoterobot.com   \n",
       "3                               http://shoutfast.com   \n",
       "4                                   http://bribe.io/   \n",
       "5  http://chronicle.com/article/Coursera-Throws-a...   \n",
       "6  http://legacy.earlham.edu/~peters/writing/infa...   \n",
       "7  http://blog.kaelig.fr/post/51078221503/apple-i...   \n",
       "8             https://bugs.ruby-lang.org/issues/8339   \n",
       "9                    http://jackwmorgan.com/ok-glass   \n",
       "\n",
       "                                               title  score  \n",
       "0  Show HN: PostgresML integrates Hugging Face to...     14  \n",
       "1  JVM Host - Memory usage comparison of Java App...     15  \n",
       "2  Show HN: QuoteRobot Rebuilt In Python/Flask/Mo...     18  \n",
       "3                    Show HN: I made this: ShoutFast     32  \n",
       "4                       Bribe developers to fix bugs     38  \n",
       "5  John Doerr: Coursera 'Could Be Big The Way Goo...     49  \n",
       "6  A Crash Course in the Mathematics Of Infinite ...     51  \n",
       "7    Apple Is Using Sass, And They’re Doing It Wrong     71  \n",
       "8       Generational Garbage Collection for Ruby 2.1     85  \n",
       "9              Ok, glass – new Google Glass concepts     89  "
      ]
     },
     "execution_count": 4,
     "metadata": {},
     "output_type": "execute_result"
    }
   ],
   "source": [
    "%%bigquery --project $PROJECT\n",
    "\n",
    "SELECT\n",
    "    url, title, score\n",
    "FROM\n",
    "    `bigquery-public-data.hacker_news.full`\n",
    "WHERE\n",
    "    LENGTH(title) > 10\n",
    "    AND score > 10\n",
    "    AND LENGTH(url) > 0\n",
    "LIMIT 10"
   ]
  },
  {
   "cell_type": "markdown",
   "metadata": {},
   "source": [
    "Let's do some regular expression parsing in BigQuery to get the source of the newspaper article from the URL. For example, if the url is http://mobile.nytimes.com/...., I want to be left with <i>nytimes</i>"
   ]
  },
  {
   "cell_type": "code",
   "execution_count": 5,
   "metadata": {
    "tags": []
   },
   "outputs": [
    {
     "data": {
      "application/vnd.jupyter.widget-view+json": {
       "model_id": "be52cccf3dbd4c8e9989213388cca9ec",
       "version_major": 2,
       "version_minor": 0
      },
      "text/plain": [
       "Query is running:   0%|          |"
      ]
     },
     "metadata": {},
     "output_type": "display_data"
    },
    {
     "data": {
      "application/vnd.jupyter.widget-view+json": {
       "model_id": "1d9a751792a044e4b2ec4a999126be88",
       "version_major": 2,
       "version_minor": 0
      },
      "text/plain": [
       "Downloading:   0%|          |"
      ]
     },
     "metadata": {},
     "output_type": "display_data"
    },
    {
     "data": {
      "text/html": [
       "<div>\n",
       "<style scoped>\n",
       "    .dataframe tbody tr th:only-of-type {\n",
       "        vertical-align: middle;\n",
       "    }\n",
       "\n",
       "    .dataframe tbody tr th {\n",
       "        vertical-align: top;\n",
       "    }\n",
       "\n",
       "    .dataframe thead th {\n",
       "        text-align: right;\n",
       "    }\n",
       "</style>\n",
       "<table border=\"1\" class=\"dataframe\">\n",
       "  <thead>\n",
       "    <tr style=\"text-align: right;\">\n",
       "      <th></th>\n",
       "      <th>source</th>\n",
       "      <th>num_articles</th>\n",
       "    </tr>\n",
       "  </thead>\n",
       "  <tbody>\n",
       "    <tr>\n",
       "      <th>0</th>\n",
       "      <td>github</td>\n",
       "      <td>123624</td>\n",
       "    </tr>\n",
       "    <tr>\n",
       "      <th>1</th>\n",
       "      <td>medium</td>\n",
       "      <td>111783</td>\n",
       "    </tr>\n",
       "    <tr>\n",
       "      <th>2</th>\n",
       "      <td>youtube</td>\n",
       "      <td>89728</td>\n",
       "    </tr>\n",
       "    <tr>\n",
       "      <th>3</th>\n",
       "      <td>nytimes</td>\n",
       "      <td>64827</td>\n",
       "    </tr>\n",
       "    <tr>\n",
       "      <th>4</th>\n",
       "      <td>blogspot</td>\n",
       "      <td>53082</td>\n",
       "    </tr>\n",
       "    <tr>\n",
       "      <th>...</th>\n",
       "      <td>...</td>\n",
       "      <td>...</td>\n",
       "    </tr>\n",
       "    <tr>\n",
       "      <th>95</th>\n",
       "      <td>nextplatform</td>\n",
       "      <td>2359</td>\n",
       "    </tr>\n",
       "    <tr>\n",
       "      <th>96</th>\n",
       "      <td>anandtech</td>\n",
       "      <td>2351</td>\n",
       "    </tr>\n",
       "    <tr>\n",
       "      <th>97</th>\n",
       "      <td>politico</td>\n",
       "      <td>2340</td>\n",
       "    </tr>\n",
       "    <tr>\n",
       "      <th>98</th>\n",
       "      <td>extremetech</td>\n",
       "      <td>2333</td>\n",
       "    </tr>\n",
       "    <tr>\n",
       "      <th>99</th>\n",
       "      <td>atlasobscura</td>\n",
       "      <td>2296</td>\n",
       "    </tr>\n",
       "  </tbody>\n",
       "</table>\n",
       "<p>100 rows × 2 columns</p>\n",
       "</div>"
      ],
      "text/plain": [
       "          source  num_articles\n",
       "0         github        123624\n",
       "1         medium        111783\n",
       "2        youtube         89728\n",
       "3        nytimes         64827\n",
       "4       blogspot         53082\n",
       "..           ...           ...\n",
       "95  nextplatform          2359\n",
       "96     anandtech          2351\n",
       "97      politico          2340\n",
       "98   extremetech          2333\n",
       "99  atlasobscura          2296\n",
       "\n",
       "[100 rows x 2 columns]"
      ]
     },
     "execution_count": 5,
     "metadata": {},
     "output_type": "execute_result"
    }
   ],
   "source": [
    "%%bigquery --project $PROJECT\n",
    "\n",
    "SELECT\n",
    "    ARRAY_REVERSE(SPLIT(REGEXP_EXTRACT(url, '.*://(.[^/]+)/'), '.'))[safe_offset (1)] AS source,\n",
    "    COUNT(title) AS num_articles\n",
    "FROM\n",
    "    `bigquery-public-data.hacker_news.full`\n",
    "WHERE\n",
    "    REGEXP_CONTAINS(REGEXP_EXTRACT(url, '.*://(.[^/]+)/'), '.com$')\n",
    "    AND LENGTH(title) > 10\n",
    "GROUP BY\n",
    "    source\n",
    "ORDER BY num_articles DESC\n",
    "  LIMIT 100"
   ]
  },
  {
   "cell_type": "markdown",
   "metadata": {},
   "source": [
    "Now that we have good parsing of the URL to get the source, let's put together a dataset of source and titles. This will be our labeled dataset for machine learning."
   ]
  },
  {
   "cell_type": "code",
   "execution_count": 6,
   "metadata": {
    "tags": []
   },
   "outputs": [
    {
     "name": "stdout",
     "output_type": "stream",
     "text": [
      "\n",
      "SELECT \n",
      "    LOWER(REGEXP_REPLACE(title, '[^a-zA-Z0-9 $.-]', ' ')) AS title,\n",
      "    source\n",
      "FROM\n",
      "  (\n",
      "SELECT\n",
      "    title,\n",
      "    ARRAY_REVERSE(SPLIT(REGEXP_EXTRACT(url, '.*://(.[^/]+)/'), '.'))[safe_offset (1)] AS source\n",
      "    \n",
      "FROM\n",
      "    `bigquery-public-data.hacker_news.full`\n",
      "WHERE\n",
      "    REGEXP_CONTAINS(REGEXP_EXTRACT(url, '.*://(.[^/]+)/'), '.com$')\n",
      "    AND LENGTH(title) > 10\n",
      ")\n",
      "WHERE (source = 'github' OR source = 'nytimes' OR source = 'techcrunch')\n",
      "\n"
     ]
    }
   ],
   "source": [
    "regex = '.*://(.[^/]+)/'\n",
    "\n",
    "\n",
    "sub_query = \"\"\"\n",
    "SELECT\n",
    "    title,\n",
    "    ARRAY_REVERSE(SPLIT(REGEXP_EXTRACT(url, '{0}'), '.'))[safe_offset (1)] AS source\n",
    "    \n",
    "FROM\n",
    "    `bigquery-public-data.hacker_news.full`\n",
    "WHERE\n",
    "    REGEXP_CONTAINS(REGEXP_EXTRACT(url, '{0}'), '.com$')\n",
    "    AND LENGTH(title) > 10\n",
    "\"\"\".format(regex)\n",
    "\n",
    "\n",
    "query = \"\"\"\n",
    "SELECT \n",
    "    LOWER(REGEXP_REPLACE(title, '[^a-zA-Z0-9 $.-]', ' ')) AS title,\n",
    "    source\n",
    "FROM\n",
    "  ({sub_query})\n",
    "WHERE (source = 'github' OR source = 'nytimes' OR source = 'techcrunch')\n",
    "\"\"\".format(sub_query=sub_query)\n",
    "\n",
    "print(query)"
   ]
  },
  {
   "cell_type": "markdown",
   "metadata": {},
   "source": [
    "For ML training, we usually need to split our dataset into training and evaluation datasets (and perhaps an independent test dataset if we are going to do model or feature selection based on the evaluation dataset). AutoML however figures out on its own how to create these splits, so we won't need to do that here. \n",
    "\n"
   ]
  },
  {
   "cell_type": "code",
   "execution_count": 7,
   "metadata": {
    "tags": []
   },
   "outputs": [
    {
     "data": {
      "text/html": [
       "<div>\n",
       "<style scoped>\n",
       "    .dataframe tbody tr th:only-of-type {\n",
       "        vertical-align: middle;\n",
       "    }\n",
       "\n",
       "    .dataframe tbody tr th {\n",
       "        vertical-align: top;\n",
       "    }\n",
       "\n",
       "    .dataframe thead th {\n",
       "        text-align: right;\n",
       "    }\n",
       "</style>\n",
       "<table border=\"1\" class=\"dataframe\">\n",
       "  <thead>\n",
       "    <tr style=\"text-align: right;\">\n",
       "      <th></th>\n",
       "      <th>title</th>\n",
       "      <th>source</th>\n",
       "    </tr>\n",
       "  </thead>\n",
       "  <tbody>\n",
       "    <tr>\n",
       "      <th>0</th>\n",
       "      <td>show hn  make a header that reacts well to scr...</td>\n",
       "      <td>github</td>\n",
       "    </tr>\n",
       "    <tr>\n",
       "      <th>1</th>\n",
       "      <td>show hn  js object mapper generator from db sc...</td>\n",
       "      <td>github</td>\n",
       "    </tr>\n",
       "    <tr>\n",
       "      <th>2</th>\n",
       "      <td>show hn  webrtc nuts and bolts  a holistic way...</td>\n",
       "      <td>github</td>\n",
       "    </tr>\n",
       "    <tr>\n",
       "      <th>3</th>\n",
       "      <td>create a static website and api on aws with on...</td>\n",
       "      <td>github</td>\n",
       "    </tr>\n",
       "    <tr>\n",
       "      <th>4</th>\n",
       "      <td>top to bottom setup and update scripts for an ...</td>\n",
       "      <td>github</td>\n",
       "    </tr>\n",
       "  </tbody>\n",
       "</table>\n",
       "</div>"
      ],
      "text/plain": [
       "                                               title  source\n",
       "0  show hn  make a header that reacts well to scr...  github\n",
       "1  show hn  js object mapper generator from db sc...  github\n",
       "2  show hn  webrtc nuts and bolts  a holistic way...  github\n",
       "3  create a static website and api on aws with on...  github\n",
       "4  top to bottom setup and update scripts for an ...  github"
      ]
     },
     "execution_count": 7,
     "metadata": {},
     "output_type": "execute_result"
    }
   ],
   "source": [
    "bq = bigquery.Client(project=PROJECT)\n",
    "title_dataset = bq.query(query).to_dataframe()\n",
    "title_dataset.head()"
   ]
  },
  {
   "cell_type": "markdown",
   "metadata": {},
   "source": [
    "AutoML for text classification requires that\n",
    "* the dataset be in csv form with \n",
    "* the first column being the texts to classify or a GCS path to the text \n",
    "* the last colum to be the text labels\n",
    "\n",
    "The dataset we pulled from BiqQuery satisfies these requirements."
   ]
  },
  {
   "cell_type": "code",
   "execution_count": 8,
   "metadata": {
    "tags": []
   },
   "outputs": [
    {
     "name": "stdout",
     "output_type": "stream",
     "text": [
      "The full dataset contains 236186 titles\n"
     ]
    }
   ],
   "source": [
    "print(\"The full dataset contains {n} titles\".format(n=len(title_dataset)))"
   ]
  },
  {
   "cell_type": "markdown",
   "metadata": {},
   "source": [
    "Let's make sure we have roughly the same number of labels for each of our three labels:"
   ]
  },
  {
   "cell_type": "code",
   "execution_count": 9,
   "metadata": {
    "tags": []
   },
   "outputs": [
    {
     "data": {
      "text/plain": [
       "github        123624\n",
       "nytimes        64827\n",
       "techcrunch     47735\n",
       "Name: source, dtype: int64"
      ]
     },
     "execution_count": 9,
     "metadata": {},
     "output_type": "execute_result"
    }
   ],
   "source": [
    "title_dataset.source.value_counts()"
   ]
  },
  {
   "cell_type": "markdown",
   "metadata": {},
   "source": [
    "Finally we will save our data, which is currently in-memory, to disk.\n",
    "\n",
    "We will create a csv file containing the full dataset and another containing only 1000 articles for development.\n",
    "\n",
    "**Note:** It may take a long time to train AutoML on the full dataset, so we recommend to use the sample dataset for the purpose of learning the tool. \n"
   ]
  },
  {
   "cell_type": "code",
   "execution_count": 10,
   "metadata": {
    "tags": []
   },
   "outputs": [],
   "source": [
    "DATADIR = './data/'\n",
    "\n",
    "if not os.path.exists(DATADIR):\n",
    "    os.makedirs(DATADIR)"
   ]
  },
  {
   "cell_type": "code",
   "execution_count": 11,
   "metadata": {
    "tags": []
   },
   "outputs": [],
   "source": [
    "FULL_DATASET_NAME = 'titles_full.csv'\n",
    "FULL_DATASET_PATH = os.path.join(DATADIR, FULL_DATASET_NAME)\n",
    "\n",
    "# Let's shuffle the data before writing it to disk.\n",
    "title_dataset = title_dataset.sample(n=len(title_dataset))\n",
    "\n",
    "title_dataset.to_csv(\n",
    "    FULL_DATASET_PATH, header=False, index=False, encoding='utf-8')"
   ]
  },
  {
   "cell_type": "markdown",
   "metadata": {},
   "source": [
    "Now let's sample 1000 articles from the full dataset and make sure we have enough examples for each label in our sample dataset (see [here](https://cloud.google.com/natural-language/automl/docs/beginners-guide) for further details on how to prepare data for AutoML)."
   ]
  },
  {
   "cell_type": "code",
   "execution_count": 12,
   "metadata": {
    "tags": []
   },
   "outputs": [
    {
     "data": {
      "text/plain": [
       "github        554\n",
       "nytimes       256\n",
       "techcrunch    190\n",
       "Name: source, dtype: int64"
      ]
     },
     "execution_count": 12,
     "metadata": {},
     "output_type": "execute_result"
    }
   ],
   "source": [
    "sample_title_dataset = title_dataset.sample(n=1000)\n",
    "sample_title_dataset.source.value_counts()"
   ]
  },
  {
   "cell_type": "markdown",
   "metadata": {},
   "source": [
    "Let's write the sample datatset to disk."
   ]
  },
  {
   "cell_type": "code",
   "execution_count": 13,
   "metadata": {
    "tags": []
   },
   "outputs": [],
   "source": [
    "SAMPLE_DATASET_NAME = 'titles_sample.csv'\n",
    "SAMPLE_DATASET_PATH = os.path.join(DATADIR, SAMPLE_DATASET_NAME)\n",
    "\n",
    "sample_title_dataset.to_csv(\n",
    "    SAMPLE_DATASET_PATH, header=False, index=False, encoding='utf-8')"
   ]
  },
  {
   "cell_type": "code",
   "execution_count": 14,
   "metadata": {
    "tags": []
   },
   "outputs": [
    {
     "name": "stdout",
     "output_type": "stream",
     "text": [
      "2.6.5\n"
     ]
    }
   ],
   "source": [
    "import datetime\n",
    "import os\n",
    "import shutil\n",
    "\n",
    "import pandas as pd\n",
    "import tensorflow as tf\n",
    "from tensorflow.keras.callbacks import TensorBoard, EarlyStopping\n",
    "from tensorflow_hub import KerasLayer\n",
    "from tensorflow.keras.layers import Dense\n",
    "from tensorflow.keras.models import Sequential\n",
    "from tensorflow.keras.preprocessing.text import Tokenizer\n",
    "from tensorflow.keras.utils import to_categorical\n",
    "\n",
    "\n",
    "print(tf.__version__)"
   ]
  },
  {
   "cell_type": "code",
   "execution_count": 15,
   "metadata": {
    "tags": []
   },
   "outputs": [],
   "source": [
    "%matplotlib inline"
   ]
  },
  {
   "cell_type": "markdown",
   "metadata": {},
   "source": [
    "Let's start by specifying where the information about the trained models will be saved as well as where our dataset is located:"
   ]
  },
  {
   "cell_type": "code",
   "execution_count": 16,
   "metadata": {
    "tags": []
   },
   "outputs": [],
   "source": [
    "MODEL_DIR = \"./text_models\"\n",
    "DATA_DIR = \"./data\""
   ]
  },
  {
   "cell_type": "markdown",
   "metadata": {},
   "source": [
    "## Loading the dataset"
   ]
  },
  {
   "cell_type": "markdown",
   "metadata": {},
   "source": [
    "As in the previous labs, our dataset consists of titles of articles along with the label indicating from which source these articles have been taken from (GitHub, Tech-Crunch, or the New-York Times):"
   ]
  },
  {
   "cell_type": "code",
   "execution_count": 17,
   "metadata": {
    "tags": []
   },
   "outputs": [
    {
     "name": "stdout",
     "output_type": "stream",
     "text": [
      "titles_full.csv  titles_sample.csv\n"
     ]
    }
   ],
   "source": [
    "ls ./data/"
   ]
  },
  {
   "cell_type": "code",
   "execution_count": 18,
   "metadata": {
    "tags": []
   },
   "outputs": [
    {
     "data": {
      "text/html": [
       "<div>\n",
       "<style scoped>\n",
       "    .dataframe tbody tr th:only-of-type {\n",
       "        vertical-align: middle;\n",
       "    }\n",
       "\n",
       "    .dataframe tbody tr th {\n",
       "        vertical-align: top;\n",
       "    }\n",
       "\n",
       "    .dataframe thead th {\n",
       "        text-align: right;\n",
       "    }\n",
       "</style>\n",
       "<table border=\"1\" class=\"dataframe\">\n",
       "  <thead>\n",
       "    <tr style=\"text-align: right;\">\n",
       "      <th></th>\n",
       "      <th>title</th>\n",
       "      <th>source</th>\n",
       "    </tr>\n",
       "  </thead>\n",
       "  <tbody>\n",
       "    <tr>\n",
       "      <th>0</th>\n",
       "      <td>bubbles carry a lot of weight  texting anxiety...</td>\n",
       "      <td>nytimes</td>\n",
       "    </tr>\n",
       "    <tr>\n",
       "      <th>1</th>\n",
       "      <td>manage and clone peer-to-peer git repositories</td>\n",
       "      <td>github</td>\n",
       "    </tr>\n",
       "    <tr>\n",
       "      <th>2</th>\n",
       "      <td>implementation of linear regression from scrat...</td>\n",
       "      <td>github</td>\n",
       "    </tr>\n",
       "    <tr>\n",
       "      <th>3</th>\n",
       "      <td>show hn  play with the soar cognitive architec...</td>\n",
       "      <td>github</td>\n",
       "    </tr>\n",
       "    <tr>\n",
       "      <th>4</th>\n",
       "      <td>western digital to aquire sandisk for $19b</td>\n",
       "      <td>techcrunch</td>\n",
       "    </tr>\n",
       "  </tbody>\n",
       "</table>\n",
       "</div>"
      ],
      "text/plain": [
       "                                               title      source\n",
       "0  bubbles carry a lot of weight  texting anxiety...     nytimes\n",
       "1     manage and clone peer-to-peer git repositories      github\n",
       "2  implementation of linear regression from scrat...      github\n",
       "3  show hn  play with the soar cognitive architec...      github\n",
       "4         western digital to aquire sandisk for $19b  techcrunch"
      ]
     },
     "execution_count": 18,
     "metadata": {},
     "output_type": "execute_result"
    }
   ],
   "source": [
    "DATASET_NAME = \"titles_full.csv\"\n",
    "TITLE_SAMPLE_PATH = os.path.join(DATA_DIR, DATASET_NAME)\n",
    "COLUMNS = ['title', 'source']\n",
    "\n",
    "titles_df = pd.read_csv(TITLE_SAMPLE_PATH, header=None, names=COLUMNS)\n",
    "titles_df.head()"
   ]
  },
  {
   "cell_type": "markdown",
   "metadata": {},
   "source": [
    "Let's look again at the number of examples per label to make sure we have a well-balanced dataset:"
   ]
  },
  {
   "cell_type": "code",
   "execution_count": 19,
   "metadata": {
    "tags": []
   },
   "outputs": [
    {
     "data": {
      "text/plain": [
       "github        123624\n",
       "nytimes        64827\n",
       "techcrunch     47735\n",
       "Name: source, dtype: int64"
      ]
     },
     "execution_count": 19,
     "metadata": {},
     "output_type": "execute_result"
    }
   ],
   "source": [
    "titles_df.source.value_counts()"
   ]
  },
  {
   "cell_type": "markdown",
   "metadata": {},
   "source": [
    "## Preparing the labels"
   ]
  },
  {
   "cell_type": "markdown",
   "metadata": {},
   "source": [
    "In this lab, we will use pre-trained [TF-Hub embeddings modules for english](https://tfhub.dev/s?q=tf2%20embeddings%20text%20english) for the first layer of our models. One immediate\n",
    "advantage of doing so is that the TF-Hub embedding module will take care for us of processing the raw text. \n",
    "This also means that our model will be able to consume text directly instead of sequences of integers representing the words.\n",
    "\n",
    "However, as before, we still need to preprocess the labels into one-hot-encoded vectors:"
   ]
  },
  {
   "cell_type": "code",
   "execution_count": 20,
   "metadata": {
    "tags": []
   },
   "outputs": [],
   "source": [
    "CLASSES = {\n",
    "    'github': 0,\n",
    "    'nytimes': 1,\n",
    "    'techcrunch': 2\n",
    "}\n",
    "N_CLASSES = len(CLASSES)"
   ]
  },
  {
   "cell_type": "code",
   "execution_count": 21,
   "metadata": {
    "tags": []
   },
   "outputs": [],
   "source": [
    "def encode_labels(sources):\n",
    "    classes = [CLASSES[source] for source in sources]\n",
    "    one_hots = to_categorical(classes, num_classes=N_CLASSES)\n",
    "    return one_hots"
   ]
  },
  {
   "cell_type": "code",
   "execution_count": 22,
   "metadata": {
    "tags": []
   },
   "outputs": [
    {
     "data": {
      "text/plain": [
       "array([[0., 1., 0.],\n",
       "       [1., 0., 0.],\n",
       "       [1., 0., 0.],\n",
       "       [1., 0., 0.]], dtype=float32)"
      ]
     },
     "execution_count": 22,
     "metadata": {},
     "output_type": "execute_result"
    }
   ],
   "source": [
    "encode_labels(titles_df.source[:4])"
   ]
  },
  {
   "cell_type": "markdown",
   "metadata": {},
   "source": [
    "## Preparing the train/test splits"
   ]
  },
  {
   "cell_type": "markdown",
   "metadata": {},
   "source": [
    "Let's split our data into train and test splits:"
   ]
  },
  {
   "cell_type": "code",
   "execution_count": 23,
   "metadata": {
    "tags": []
   },
   "outputs": [],
   "source": [
    "N_TRAIN = int(len(titles_df) * 0.95)\n",
    "\n",
    "titles_train, sources_train = (\n",
    "    titles_df.title[:N_TRAIN], titles_df.source[:N_TRAIN])\n",
    "\n",
    "titles_valid, sources_valid = (\n",
    "    titles_df.title[N_TRAIN:], titles_df.source[N_TRAIN:])"
   ]
  },
  {
   "cell_type": "markdown",
   "metadata": {},
   "source": [
    "To be on the safe side, we verify that the train and test splits\n",
    "have roughly the same number of examples per class.\n",
    "\n",
    "Since it is the case, accuracy will be a good metric to use to measure\n",
    "the performance of our models."
   ]
  },
  {
   "cell_type": "code",
   "execution_count": 24,
   "metadata": {
    "tags": []
   },
   "outputs": [
    {
     "data": {
      "text/plain": [
       "github        117477\n",
       "nytimes        61578\n",
       "techcrunch     45321\n",
       "Name: source, dtype: int64"
      ]
     },
     "execution_count": 24,
     "metadata": {},
     "output_type": "execute_result"
    }
   ],
   "source": [
    "sources_train.value_counts()"
   ]
  },
  {
   "cell_type": "code",
   "execution_count": 25,
   "metadata": {
    "tags": []
   },
   "outputs": [
    {
     "data": {
      "text/plain": [
       "github        6147\n",
       "nytimes       3249\n",
       "techcrunch    2414\n",
       "Name: source, dtype: int64"
      ]
     },
     "execution_count": 25,
     "metadata": {},
     "output_type": "execute_result"
    }
   ],
   "source": [
    "sources_valid.value_counts()"
   ]
  },
  {
   "cell_type": "markdown",
   "metadata": {},
   "source": [
    "Now let's create the features and labels we will feed our models with:"
   ]
  },
  {
   "cell_type": "code",
   "execution_count": 26,
   "metadata": {
    "tags": []
   },
   "outputs": [],
   "source": [
    "X_train, Y_train = titles_train.values, encode_labels(sources_train)\n",
    "X_valid, Y_valid = titles_valid.values, encode_labels(sources_valid)"
   ]
  },
  {
   "cell_type": "code",
   "execution_count": 27,
   "metadata": {
    "tags": []
   },
   "outputs": [
    {
     "data": {
      "text/plain": [
       "array(['bubbles carry a lot of weight  texting anxiety caused by little bubbles',\n",
       "       'manage and clone peer-to-peer git repositories',\n",
       "       'implementation of linear regression from scratch  with mathematical explanation '],\n",
       "      dtype=object)"
      ]
     },
     "execution_count": 27,
     "metadata": {},
     "output_type": "execute_result"
    }
   ],
   "source": [
    "X_train[:3]"
   ]
  },
  {
   "cell_type": "code",
   "execution_count": 28,
   "metadata": {
    "tags": []
   },
   "outputs": [
    {
     "data": {
      "text/plain": [
       "array([[0., 1., 0.],\n",
       "       [1., 0., 0.],\n",
       "       [1., 0., 0.]], dtype=float32)"
      ]
     },
     "execution_count": 28,
     "metadata": {},
     "output_type": "execute_result"
    }
   ],
   "source": [
    "Y_train[:3]"
   ]
  },
  {
   "cell_type": "markdown",
   "metadata": {},
   "source": [
    "## NNLM Model"
   ]
  },
  {
   "cell_type": "markdown",
   "metadata": {},
   "source": [
    "We will first try a word embedding pre-trained using a [Neural Probabilistic Language Model](http://www.jmlr.org/papers/volume3/bengio03a/bengio03a.pdf). TF-Hub has a 50-dimensional one called \n",
    "[nnlm-en-dim50-with-normalization](https://tfhub.dev/google/tf2-preview/nnlm-en-dim50/1), which also\n",
    "normalizes the vectors produced. \n",
    "\n",
    "### Lab Task 1a: Import NNLM TF Hub module into `KerasLayer`\n",
    "\n",
    "Once loaded from its url, the TF-hub module can be used as a normal Keras layer in a sequential or functional model. Since we have enough data to fine-tune the parameters of the pre-trained embedding itself, we will set `trainable=True` in the `KerasLayer` that loads the pre-trained embedding:"
   ]
  },
  {
   "cell_type": "code",
   "execution_count": 42,
   "metadata": {
    "tags": []
   },
   "outputs": [],
   "source": [
    "NNLM = \"https://tfhub.dev/google/nnlm-en-dim50/2\"\n",
    "\n",
    "nnlm_module = KerasLayer(NNLM,output_shape=[50],input_shape=[],dtype=tf.string,trainable=True)"
   ]
  },
  {
   "cell_type": "markdown",
   "metadata": {},
   "source": [
    "Note that this TF-Hub embedding produces a single 50-dimensional vector when passed a sentence:"
   ]
  },
  {
   "cell_type": "markdown",
   "metadata": {},
   "source": [
    "### Lab Task 1b: Use module to encode a sentence string"
   ]
  },
  {
   "cell_type": "code",
   "execution_count": 43,
   "metadata": {
    "tags": []
   },
   "outputs": [
    {
     "data": {
      "text/plain": [
       "<tf.Tensor: shape=(1, 50), dtype=float32, numpy=\n",
       "array([[ 0.02928968,  0.02335368, -0.00064366,  0.06151358, -0.22016475,\n",
       "         0.05342099, -0.04935883,  0.08486777, -0.28438264, -0.16686937,\n",
       "        -0.24844673,  0.34798905, -0.00861346,  0.00403938, -0.03893653,\n",
       "         0.10178465,  0.05948808, -0.02465991,  0.11077152,  0.14485517,\n",
       "         0.16098678, -0.2886244 ,  0.01952722, -0.3617748 , -0.10029785,\n",
       "        -0.22225016, -0.05442449,  0.12239899,  0.14702535, -0.01641686,\n",
       "         0.17741327, -0.3590697 , -0.2677475 ,  0.0732125 ,  0.26816586,\n",
       "        -0.22195724,  0.21005808,  0.04851168,  0.03855968,  0.1280834 ,\n",
       "         0.16938531, -0.19166923,  0.01828709,  0.11427643, -0.13644916,\n",
       "        -0.42604846, -0.06370549, -0.08848773,  0.16302323,  0.21423677]],\n",
       "      dtype=float32)>"
      ]
     },
     "execution_count": 43,
     "metadata": {},
     "output_type": "execute_result"
    }
   ],
   "source": [
    "nnlm_module(tf.constant([\"Google launches Vertex AI studio with powerful GenAI solutions\"]))"
   ]
  },
  {
   "cell_type": "markdown",
   "metadata": {},
   "source": [
    "## Swivel Model"
   ]
  },
  {
   "cell_type": "markdown",
   "metadata": {},
   "source": [
    "Then we will try a word embedding obtained using [Swivel](https://arxiv.org/abs/1602.02215), an algorithm that essentially factorizes word co-occurrence matrices to create the words embeddings. \n",
    "TF-Hub hosts the pretrained [gnews-swivel-20dim-with-oov](https://tfhub.dev/google/tf2-preview/gnews-swivel-20dim-with-oov/1) 20-dimensional Swivel module.\n",
    "\n",
    "### Lab Task 1c: Import Swivel TF Hub module into `KerasLayer`"
   ]
  },
  {
   "cell_type": "code",
   "execution_count": 44,
   "metadata": {
    "tags": []
   },
   "outputs": [],
   "source": [
    "SWIVEL = \"https://tfhub.dev/google/tf2-preview/gnews-swivel-20dim-with-oov/1\"\n",
    "swivel_module = KerasLayer(SWIVEL,output_shape=[20],input_shape=[],dtype=tf.string, trainable = True)"
   ]
  },
  {
   "cell_type": "markdown",
   "metadata": {},
   "source": [
    "Similarly as the previous pre-trained embedding, it outputs a single vector when passed a sentence:\n",
    "\n",
    "### Lab Task 1d: Use module to encode a sentence string"
   ]
  },
  {
   "cell_type": "code",
   "execution_count": 45,
   "metadata": {
    "tags": []
   },
   "outputs": [
    {
     "data": {
      "text/plain": [
       "<tf.Tensor: shape=(1, 20), dtype=float32, numpy=\n",
       "array([[ 1.7967603 , -0.657184  ,  2.302422  ,  0.88547295, -0.3904152 ,\n",
       "         1.8036313 ,  1.0605485 , -0.98912144, -1.0045353 , -1.9771061 ,\n",
       "         0.1842709 ,  0.8973949 , -1.3352464 ,  0.7461118 , -0.20254777,\n",
       "        -1.2998042 ,  0.8366689 ,  0.40330625,  0.93288827, -0.6920166 ]],\n",
       "      dtype=float32)>"
      ]
     },
     "execution_count": 45,
     "metadata": {},
     "output_type": "execute_result"
    }
   ],
   "source": [
    "swivel_module(tf.constant([\"Google launches Vertex AI studio with powerful GenAI solutions\"]))"
   ]
  },
  {
   "cell_type": "markdown",
   "metadata": {},
   "source": [
    "## Building the models"
   ]
  },
  {
   "cell_type": "markdown",
   "metadata": {},
   "source": [
    "Let's write a function that \n",
    "\n",
    "* takes as input an instance of a `KerasLayer` (i.e. the `swivel_module` or the `nnlm_module` we constructed above) as well as the name of the model (say `swivel` or `nnlm`)\n",
    "* returns a compiled Keras sequential model starting with this pre-trained TF-hub layer, adding one or more dense relu layers to it, and ending with a softmax layer giving the probability of each of the classes:\n",
    "\n",
    "### Lab Task 2: Incorporate a pre-trained TF Hub module as first layer of Keras Sequential Model"
   ]
  },
  {
   "cell_type": "code",
   "execution_count": 47,
   "metadata": {
    "tags": []
   },
   "outputs": [],
   "source": [
    "def build_model(hub_module, name):\n",
    "    model = Sequential([\n",
    "        hub_module,\n",
    "        Dense(16, activation='relu'),\n",
    "        Dense(N_CLASSES, activation='softmax')\n",
    "    ], name=name)\n",
    "\n",
    "    model.compile(\n",
    "        optimizer='adam',\n",
    "        loss='categorical_crossentropy',\n",
    "        metrics=['accuracy']\n",
    "    )\n",
    "    return model"
   ]
  },
  {
   "cell_type": "markdown",
   "metadata": {},
   "source": [
    "Let's also wrap the training code into a `train_and_evaluate` function that \n",
    "* takes as input the training and validation data, as well as the compiled model itself, and the `batch_size`\n",
    "* trains the compiled model for 100 epochs at most, and does early-stopping when the validation loss is no longer decreasing\n",
    "* returns an `history` object, which will help us to plot the learning curves"
   ]
  },
  {
   "cell_type": "code",
   "execution_count": 48,
   "metadata": {
    "tags": []
   },
   "outputs": [],
   "source": [
    "def train_and_evaluate(train_data, val_data, model, batch_size=5000):\n",
    "    X_train, Y_train = train_data\n",
    "\n",
    "    tf.random.set_seed(33)\n",
    "\n",
    "    model_dir = os.path.join(MODEL_DIR, model.name)\n",
    "    if tf.io.gfile.exists(model_dir):\n",
    "        tf.io.gfile.rmtree(model_dir)\n",
    "\n",
    "    history = model.fit(\n",
    "        X_train, Y_train,\n",
    "        epochs=50,\n",
    "        batch_size=batch_size,\n",
    "        validation_data=val_data,\n",
    "        callbacks=TensorBoard(model_dir),\n",
    "    )\n",
    "    return history"
   ]
  },
  {
   "cell_type": "markdown",
   "metadata": {},
   "source": [
    "## Training NNLM"
   ]
  },
  {
   "cell_type": "code",
   "execution_count": 49,
   "metadata": {
    "tags": []
   },
   "outputs": [],
   "source": [
    "data = (X_train, Y_train)\n",
    "val_data = (X_valid, Y_valid)"
   ]
  },
  {
   "cell_type": "code",
   "execution_count": 50,
   "metadata": {
    "tags": []
   },
   "outputs": [
    {
     "name": "stderr",
     "output_type": "stream",
     "text": [
      "2024-01-29 14:49:05.226849: I tensorflow/core/profiler/lib/profiler_session.cc:131] Profiler session initializing.\n",
      "2024-01-29 14:49:05.227068: I tensorflow/core/profiler/lib/profiler_session.cc:146] Profiler session started.\n",
      "2024-01-29 14:49:05.227510: I tensorflow/core/profiler/lib/profiler_session.cc:164] Profiler session tear down.\n"
     ]
    },
    {
     "name": "stdout",
     "output_type": "stream",
     "text": [
      "Epoch 1/50\n",
      " 1/45 [..............................] - ETA: 51s - loss: 1.0993 - accuracy: 0.3452"
     ]
    },
    {
     "name": "stderr",
     "output_type": "stream",
     "text": [
      "2024-01-29 14:49:06.521447: I tensorflow/core/profiler/lib/profiler_session.cc:131] Profiler session initializing.\n",
      "2024-01-29 14:49:06.521653: I tensorflow/core/profiler/lib/profiler_session.cc:146] Profiler session started.\n"
     ]
    },
    {
     "name": "stdout",
     "output_type": "stream",
     "text": [
      " 2/45 [>.............................] - ETA: 28s - loss: 1.0946 - accuracy: 0.3692"
     ]
    },
    {
     "name": "stderr",
     "output_type": "stream",
     "text": [
      "2024-01-29 14:49:07.162455: I tensorflow/core/profiler/lib/profiler_session.cc:66] Profiler session collecting data.\n",
      "2024-01-29 14:49:07.165434: I tensorflow/core/profiler/lib/profiler_session.cc:164] Profiler session tear down.\n",
      "2024-01-29 14:49:07.177312: I tensorflow/core/profiler/rpc/client/save_profile.cc:136] Creating directory: ./text_models/nnlm/train/plugins/profile/2024_01_29_14_49_07\n",
      "\n",
      "2024-01-29 14:49:07.178811: I tensorflow/core/profiler/rpc/client/save_profile.cc:142] Dumped gzipped tool data for trace.json.gz to ./text_models/nnlm/train/plugins/profile/2024_01_29_14_49_07/instance-20240129-195108.trace.json.gz\n",
      "2024-01-29 14:49:07.194442: I tensorflow/core/profiler/rpc/client/save_profile.cc:136] Creating directory: ./text_models/nnlm/train/plugins/profile/2024_01_29_14_49_07\n",
      "\n",
      "2024-01-29 14:49:07.194866: I tensorflow/core/profiler/rpc/client/save_profile.cc:142] Dumped gzipped tool data for memory_profile.json.gz to ./text_models/nnlm/train/plugins/profile/2024_01_29_14_49_07/instance-20240129-195108.memory_profile.json.gz\n",
      "2024-01-29 14:49:07.195422: I tensorflow/core/profiler/rpc/client/capture_profile.cc:251] Creating directory: ./text_models/nnlm/train/plugins/profile/2024_01_29_14_49_07\n",
      "Dumped tool data for xplane.pb to ./text_models/nnlm/train/plugins/profile/2024_01_29_14_49_07/instance-20240129-195108.xplane.pb\n",
      "Dumped tool data for overview_page.pb to ./text_models/nnlm/train/plugins/profile/2024_01_29_14_49_07/instance-20240129-195108.overview_page.pb\n",
      "Dumped tool data for input_pipeline.pb to ./text_models/nnlm/train/plugins/profile/2024_01_29_14_49_07/instance-20240129-195108.input_pipeline.pb\n",
      "Dumped tool data for tensorflow_stats.pb to ./text_models/nnlm/train/plugins/profile/2024_01_29_14_49_07/instance-20240129-195108.tensorflow_stats.pb\n",
      "Dumped tool data for kernel_stats.pb to ./text_models/nnlm/train/plugins/profile/2024_01_29_14_49_07/instance-20240129-195108.kernel_stats.pb\n",
      "\n"
     ]
    },
    {
     "name": "stdout",
     "output_type": "stream",
     "text": [
      "45/45 [==============================] - 22s 471ms/step - loss: 0.9314 - accuracy: 0.6153 - val_loss: 0.7456 - val_accuracy: 0.7155\n",
      "Epoch 2/50\n",
      "45/45 [==============================] - 20s 453ms/step - loss: 0.5799 - accuracy: 0.7823 - val_loss: 0.4665 - val_accuracy: 0.8306\n",
      "Epoch 3/50\n",
      "45/45 [==============================] - 21s 467ms/step - loss: 0.3842 - accuracy: 0.8619 - val_loss: 0.3547 - val_accuracy: 0.8672\n",
      "Epoch 4/50\n",
      "45/45 [==============================] - 19s 433ms/step - loss: 0.3013 - accuracy: 0.8878 - val_loss: 0.3122 - val_accuracy: 0.8784\n",
      "Epoch 5/50\n",
      "45/45 [==============================] - 20s 444ms/step - loss: 0.2603 - accuracy: 0.9024 - val_loss: 0.2935 - val_accuracy: 0.8863\n",
      "Epoch 6/50\n",
      "45/45 [==============================] - 20s 450ms/step - loss: 0.2345 - accuracy: 0.9125 - val_loss: 0.2849 - val_accuracy: 0.8889\n",
      "Epoch 7/50\n",
      "45/45 [==============================] - 20s 443ms/step - loss: 0.2161 - accuracy: 0.9201 - val_loss: 0.2811 - val_accuracy: 0.8901\n",
      "Epoch 8/50\n",
      "45/45 [==============================] - 20s 443ms/step - loss: 0.2019 - accuracy: 0.9256 - val_loss: 0.2799 - val_accuracy: 0.8918\n",
      "Epoch 9/50\n",
      "45/45 [==============================] - 20s 446ms/step - loss: 0.1907 - accuracy: 0.9301 - val_loss: 0.2805 - val_accuracy: 0.8918\n",
      "Epoch 10/50\n",
      "45/45 [==============================] - 20s 436ms/step - loss: 0.1813 - accuracy: 0.9339 - val_loss: 0.2827 - val_accuracy: 0.8914\n",
      "Epoch 11/50\n",
      "45/45 [==============================] - 19s 432ms/step - loss: 0.1734 - accuracy: 0.9369 - val_loss: 0.2868 - val_accuracy: 0.8906\n",
      "Epoch 12/50\n",
      "45/45 [==============================] - 20s 452ms/step - loss: 0.1667 - accuracy: 0.9397 - val_loss: 0.2912 - val_accuracy: 0.8891\n",
      "Epoch 13/50\n",
      "45/45 [==============================] - 20s 444ms/step - loss: 0.1609 - accuracy: 0.9420 - val_loss: 0.2951 - val_accuracy: 0.8881\n",
      "Epoch 14/50\n",
      "45/45 [==============================] - 19s 433ms/step - loss: 0.1558 - accuracy: 0.9440 - val_loss: 0.3010 - val_accuracy: 0.8881\n",
      "Epoch 15/50\n",
      "45/45 [==============================] - 20s 448ms/step - loss: 0.1513 - accuracy: 0.9458 - val_loss: 0.3059 - val_accuracy: 0.8870\n",
      "Epoch 16/50\n",
      "45/45 [==============================] - 20s 439ms/step - loss: 0.1474 - accuracy: 0.9473 - val_loss: 0.3108 - val_accuracy: 0.8877\n",
      "Epoch 17/50\n",
      "45/45 [==============================] - 19s 430ms/step - loss: 0.1439 - accuracy: 0.9486 - val_loss: 0.3170 - val_accuracy: 0.8860\n",
      "Epoch 18/50\n",
      "45/45 [==============================] - 20s 444ms/step - loss: 0.1407 - accuracy: 0.9498 - val_loss: 0.3227 - val_accuracy: 0.8878\n",
      "Epoch 19/50\n",
      "45/45 [==============================] - 20s 441ms/step - loss: 0.1376 - accuracy: 0.9510 - val_loss: 0.3279 - val_accuracy: 0.8879\n",
      "Epoch 20/50\n",
      "45/45 [==============================] - 20s 441ms/step - loss: 0.1348 - accuracy: 0.9524 - val_loss: 0.3328 - val_accuracy: 0.8877\n",
      "Epoch 21/50\n",
      "45/45 [==============================] - 20s 448ms/step - loss: 0.1323 - accuracy: 0.9532 - val_loss: 0.3390 - val_accuracy: 0.8876\n",
      "Epoch 22/50\n",
      "45/45 [==============================] - 19s 431ms/step - loss: 0.1299 - accuracy: 0.9540 - val_loss: 0.3437 - val_accuracy: 0.8881\n",
      "Epoch 23/50\n",
      "45/45 [==============================] - 20s 440ms/step - loss: 0.1274 - accuracy: 0.9550 - val_loss: 0.3492 - val_accuracy: 0.8863\n",
      "Epoch 24/50\n",
      "45/45 [==============================] - 20s 452ms/step - loss: 0.1253 - accuracy: 0.9556 - val_loss: 0.3552 - val_accuracy: 0.8876\n",
      "Epoch 25/50\n",
      "45/45 [==============================] - 20s 434ms/step - loss: 0.1232 - accuracy: 0.9566 - val_loss: 0.3607 - val_accuracy: 0.8876\n",
      "Epoch 26/50\n",
      "45/45 [==============================] - 20s 441ms/step - loss: 0.1210 - accuracy: 0.9575 - val_loss: 0.3666 - val_accuracy: 0.8877\n",
      "Epoch 27/50\n",
      "45/45 [==============================] - 21s 457ms/step - loss: 0.1189 - accuracy: 0.9584 - val_loss: 0.3703 - val_accuracy: 0.8881\n",
      "Epoch 28/50\n",
      "45/45 [==============================] - 20s 434ms/step - loss: 0.1167 - accuracy: 0.9589 - val_loss: 0.3768 - val_accuracy: 0.8873\n",
      "Epoch 29/50\n",
      "45/45 [==============================] - 20s 436ms/step - loss: 0.1147 - accuracy: 0.9601 - val_loss: 0.3813 - val_accuracy: 0.8865\n",
      "Epoch 30/50\n",
      "45/45 [==============================] - 21s 458ms/step - loss: 0.1127 - accuracy: 0.9604 - val_loss: 0.3867 - val_accuracy: 0.8874\n",
      "Epoch 31/50\n",
      "45/45 [==============================] - 20s 436ms/step - loss: 0.1105 - accuracy: 0.9614 - val_loss: 0.3928 - val_accuracy: 0.8869\n",
      "Epoch 32/50\n",
      "45/45 [==============================] - 20s 441ms/step - loss: 0.1085 - accuracy: 0.9623 - val_loss: 0.3962 - val_accuracy: 0.8869\n",
      "Epoch 33/50\n",
      "45/45 [==============================] - 21s 460ms/step - loss: 0.1063 - accuracy: 0.9631 - val_loss: 0.4018 - val_accuracy: 0.8883\n",
      "Epoch 34/50\n",
      "45/45 [==============================] - 20s 435ms/step - loss: 0.1042 - accuracy: 0.9641 - val_loss: 0.4081 - val_accuracy: 0.8874\n",
      "Epoch 35/50\n",
      "45/45 [==============================] - 20s 434ms/step - loss: 0.1021 - accuracy: 0.9648 - val_loss: 0.4140 - val_accuracy: 0.8870\n",
      "Epoch 36/50\n",
      "45/45 [==============================] - 20s 454ms/step - loss: 0.1001 - accuracy: 0.9654 - val_loss: 0.4180 - val_accuracy: 0.8872\n",
      "Epoch 37/50\n",
      "45/45 [==============================] - 20s 433ms/step - loss: 0.0981 - accuracy: 0.9667 - val_loss: 0.4232 - val_accuracy: 0.8862\n",
      "Epoch 38/50\n",
      "45/45 [==============================] - 20s 441ms/step - loss: 0.0958 - accuracy: 0.9675 - val_loss: 0.4282 - val_accuracy: 0.8867\n",
      "Epoch 39/50\n",
      "45/45 [==============================] - 20s 448ms/step - loss: 0.0938 - accuracy: 0.9683 - val_loss: 0.4347 - val_accuracy: 0.8871\n",
      "Epoch 40/50\n",
      "45/45 [==============================] - 20s 437ms/step - loss: 0.0916 - accuracy: 0.9690 - val_loss: 0.4402 - val_accuracy: 0.8870\n",
      "Epoch 41/50\n",
      "45/45 [==============================] - 20s 435ms/step - loss: 0.0896 - accuracy: 0.9701 - val_loss: 0.4457 - val_accuracy: 0.8870\n",
      "Epoch 42/50\n",
      "45/45 [==============================] - 20s 441ms/step - loss: 0.0875 - accuracy: 0.9709 - val_loss: 0.4505 - val_accuracy: 0.8858\n",
      "Epoch 43/50\n",
      "45/45 [==============================] - 20s 443ms/step - loss: 0.0854 - accuracy: 0.9718 - val_loss: 0.4574 - val_accuracy: 0.8866\n",
      "Epoch 44/50\n",
      "45/45 [==============================] - 20s 441ms/step - loss: 0.0833 - accuracy: 0.9726 - val_loss: 0.4631 - val_accuracy: 0.8856\n",
      "Epoch 45/50\n",
      "45/45 [==============================] - 20s 441ms/step - loss: 0.0813 - accuracy: 0.9735 - val_loss: 0.4707 - val_accuracy: 0.8852\n",
      "Epoch 46/50\n",
      "45/45 [==============================] - 20s 443ms/step - loss: 0.0793 - accuracy: 0.9741 - val_loss: 0.4758 - val_accuracy: 0.8858\n",
      "Epoch 47/50\n",
      "45/45 [==============================] - 19s 429ms/step - loss: 0.0773 - accuracy: 0.9749 - val_loss: 0.4823 - val_accuracy: 0.8851\n",
      "Epoch 48/50\n",
      "45/45 [==============================] - 20s 437ms/step - loss: 0.0753 - accuracy: 0.9758 - val_loss: 0.4898 - val_accuracy: 0.8848\n",
      "Epoch 49/50\n",
      "45/45 [==============================] - 20s 440ms/step - loss: 0.0734 - accuracy: 0.9768 - val_loss: 0.4962 - val_accuracy: 0.8852\n",
      "Epoch 50/50\n",
      "45/45 [==============================] - 20s 450ms/step - loss: 0.0716 - accuracy: 0.9773 - val_loss: 0.5027 - val_accuracy: 0.8836\n"
     ]
    }
   ],
   "source": [
    "nnlm_model = build_model(nnlm_module, 'nnlm')\n",
    "nnlm_history = train_and_evaluate(data, val_data, nnlm_model)"
   ]
  },
  {
   "cell_type": "code",
   "execution_count": 51,
   "metadata": {
    "tags": []
   },
   "outputs": [
    {
     "data": {
      "text/plain": [
       "<AxesSubplot: >"
      ]
     },
     "execution_count": 51,
     "metadata": {},
     "output_type": "execute_result"
    },
    {
     "data": {
      "image/png": "[encoded data removed]",
      "text/plain": [
       "<Figure size 640x480 with 1 Axes>"
      ]
     },
     "metadata": {},
     "output_type": "display_data"
    },
    {
     "data": {
      "image/png": "[encoded data removed]",
      "text/plain": [
       "<Figure size 640x480 with 1 Axes>"
      ]
     },
     "metadata": {},
     "output_type": "display_data"
    }
   ],
   "source": [
    "history = nnlm_history\n",
    "pd.DataFrame(history.history)[['loss', 'val_loss']].plot()\n",
    "pd.DataFrame(history.history)[['accuracy', 'val_accuracy']].plot()"
   ]
  },
  {
   "cell_type": "markdown",
   "metadata": {},
   "source": [
    "## Training Swivel"
   ]
  },
  {
   "cell_type": "code",
   "execution_count": 52,
   "metadata": {
    "tags": []
   },
   "outputs": [],
   "source": [
    "swivel_model = build_model(swivel_module, name='swivel')"
   ]
  },
  {
   "cell_type": "code",
   "execution_count": 53,
   "metadata": {
    "tags": []
   },
   "outputs": [
    {
     "name": "stderr",
     "output_type": "stream",
     "text": [
      "2024-01-29 15:06:28.438654: I tensorflow/core/profiler/lib/profiler_session.cc:131] Profiler session initializing.\n",
      "2024-01-29 15:06:28.438798: I tensorflow/core/profiler/lib/profiler_session.cc:146] Profiler session started.\n",
      "2024-01-29 15:06:28.438920: I tensorflow/core/profiler/lib/profiler_session.cc:164] Profiler session tear down.\n"
     ]
    },
    {
     "name": "stdout",
     "output_type": "stream",
     "text": [
      "Epoch 1/50\n",
      " 6/45 [===>..........................] - ETA: 1s - loss: 1.3215 - accuracy: 0.2789"
     ]
    },
    {
     "name": "stderr",
     "output_type": "stream",
     "text": [
      "2024-01-29 15:06:29.244461: I tensorflow/core/profiler/lib/profiler_session.cc:131] Profiler session initializing.\n",
      "2024-01-29 15:06:29.244845: I tensorflow/core/profiler/lib/profiler_session.cc:146] Profiler session started.\n",
      "2024-01-29 15:06:29.304649: I tensorflow/core/profiler/lib/profiler_session.cc:66] Profiler session collecting data.\n",
      "2024-01-29 15:06:29.305756: I tensorflow/core/profiler/lib/profiler_session.cc:164] Profiler session tear down.\n",
      "2024-01-29 15:06:29.307789: I tensorflow/core/profiler/rpc/client/save_profile.cc:136] Creating directory: ./text_models/swivel/train/plugins/profile/2024_01_29_15_06_29\n",
      "\n",
      "2024-01-29 15:06:29.308908: I tensorflow/core/profiler/rpc/client/save_profile.cc:142] Dumped gzipped tool data for trace.json.gz to ./text_models/swivel/train/plugins/profile/2024_01_29_15_06_29/instance-20240129-195108.trace.json.gz\n",
      "2024-01-29 15:06:29.310641: I tensorflow/core/profiler/rpc/client/save_profile.cc:136] Creating directory: ./text_models/swivel/train/plugins/profile/2024_01_29_15_06_29\n",
      "\n",
      "2024-01-29 15:06:29.310781: I tensorflow/core/profiler/rpc/client/save_profile.cc:142] Dumped gzipped tool data for memory_profile.json.gz to ./text_models/swivel/train/plugins/profile/2024_01_29_15_06_29/instance-20240129-195108.memory_profile.json.gz\n",
      "2024-01-29 15:06:29.311159: I tensorflow/core/profiler/rpc/client/capture_profile.cc:251] Creating directory: ./text_models/swivel/train/plugins/profile/2024_01_29_15_06_29\n",
      "Dumped tool data for xplane.pb to ./text_models/swivel/train/plugins/profile/2024_01_29_15_06_29/instance-20240129-195108.xplane.pb\n",
      "Dumped tool data for overview_page.pb to ./text_models/swivel/train/plugins/profile/2024_01_29_15_06_29/instance-20240129-195108.overview_page.pb\n",
      "Dumped tool data for input_pipeline.pb to ./text_models/swivel/train/plugins/profile/2024_01_29_15_06_29/instance-20240129-195108.input_pipeline.pb\n",
      "Dumped tool data for tensorflow_stats.pb to ./text_models/swivel/train/plugins/profile/2024_01_29_15_06_29/instance-20240129-195108.tensorflow_stats.pb\n",
      "Dumped tool data for kernel_stats.pb to ./text_models/swivel/train/plugins/profile/2024_01_29_15_06_29/instance-20240129-195108.kernel_stats.pb\n",
      "\n"
     ]
    },
    {
     "name": "stdout",
     "output_type": "stream",
     "text": [
      "45/45 [==============================] - 2s 26ms/step - loss: 1.0996 - accuracy: 0.4352 - val_loss: 0.9261 - val_accuracy: 0.5946\n",
      "Epoch 2/50\n",
      "45/45 [==============================] - 1s 21ms/step - loss: 0.8401 - accuracy: 0.6367 - val_loss: 0.7793 - val_accuracy: 0.6613\n",
      "Epoch 3/50\n",
      "45/45 [==============================] - 1s 21ms/step - loss: 0.7132 - accuracy: 0.7000 - val_loss: 0.6669 - val_accuracy: 0.7180\n",
      "Epoch 4/50\n",
      "45/45 [==============================] - 1s 21ms/step - loss: 0.6094 - accuracy: 0.7496 - val_loss: 0.5788 - val_accuracy: 0.7592\n",
      "Epoch 5/50\n",
      "45/45 [==============================] - 1s 21ms/step - loss: 0.5321 - accuracy: 0.7824 - val_loss: 0.5189 - val_accuracy: 0.7857\n",
      "Epoch 6/50\n",
      "45/45 [==============================] - 1s 21ms/step - loss: 0.4798 - accuracy: 0.8042 - val_loss: 0.4805 - val_accuracy: 0.8030\n",
      "Epoch 7/50\n",
      "45/45 [==============================] - 1s 21ms/step - loss: 0.4441 - accuracy: 0.8192 - val_loss: 0.4543 - val_accuracy: 0.8132\n",
      "Epoch 8/50\n",
      "45/45 [==============================] - 1s 21ms/step - loss: 0.4179 - accuracy: 0.8305 - val_loss: 0.4353 - val_accuracy: 0.8223\n",
      "Epoch 9/50\n",
      "45/45 [==============================] - 1s 21ms/step - loss: 0.3976 - accuracy: 0.8394 - val_loss: 0.4208 - val_accuracy: 0.8315\n",
      "Epoch 10/50\n",
      "45/45 [==============================] - 1s 21ms/step - loss: 0.3815 - accuracy: 0.8469 - val_loss: 0.4095 - val_accuracy: 0.8367\n",
      "Epoch 11/50\n",
      "45/45 [==============================] - 1s 21ms/step - loss: 0.3682 - accuracy: 0.8528 - val_loss: 0.4008 - val_accuracy: 0.8396\n",
      "Epoch 12/50\n",
      "45/45 [==============================] - 1s 21ms/step - loss: 0.3573 - accuracy: 0.8578 - val_loss: 0.3937 - val_accuracy: 0.8433\n",
      "Epoch 13/50\n",
      "45/45 [==============================] - 1s 21ms/step - loss: 0.3480 - accuracy: 0.8615 - val_loss: 0.3874 - val_accuracy: 0.8463\n",
      "Epoch 14/50\n",
      "45/45 [==============================] - 1s 21ms/step - loss: 0.3401 - accuracy: 0.8653 - val_loss: 0.3834 - val_accuracy: 0.8485\n",
      "Epoch 15/50\n",
      "45/45 [==============================] - 1s 21ms/step - loss: 0.3333 - accuracy: 0.8682 - val_loss: 0.3793 - val_accuracy: 0.8494\n",
      "Epoch 16/50\n",
      "45/45 [==============================] - 1s 21ms/step - loss: 0.3274 - accuracy: 0.8706 - val_loss: 0.3763 - val_accuracy: 0.8506\n",
      "Epoch 17/50\n",
      "45/45 [==============================] - 1s 21ms/step - loss: 0.3222 - accuracy: 0.8725 - val_loss: 0.3739 - val_accuracy: 0.8512\n",
      "Epoch 18/50\n",
      "45/45 [==============================] - 1s 21ms/step - loss: 0.3176 - accuracy: 0.8748 - val_loss: 0.3718 - val_accuracy: 0.8519\n",
      "Epoch 19/50\n",
      "45/45 [==============================] - 1s 21ms/step - loss: 0.3136 - accuracy: 0.8763 - val_loss: 0.3701 - val_accuracy: 0.8531\n",
      "Epoch 20/50\n",
      "45/45 [==============================] - 1s 21ms/step - loss: 0.3099 - accuracy: 0.8782 - val_loss: 0.3688 - val_accuracy: 0.8541\n",
      "Epoch 21/50\n",
      "45/45 [==============================] - 1s 21ms/step - loss: 0.3066 - accuracy: 0.8798 - val_loss: 0.3679 - val_accuracy: 0.8542\n",
      "Epoch 22/50\n",
      "45/45 [==============================] - 1s 21ms/step - loss: 0.3036 - accuracy: 0.8810 - val_loss: 0.3668 - val_accuracy: 0.8555\n",
      "Epoch 23/50\n",
      "45/45 [==============================] - 1s 21ms/step - loss: 0.3008 - accuracy: 0.8820 - val_loss: 0.3665 - val_accuracy: 0.8561\n",
      "Epoch 24/50\n",
      "45/45 [==============================] - 1s 22ms/step - loss: 0.2983 - accuracy: 0.8834 - val_loss: 0.3658 - val_accuracy: 0.8555\n",
      "Epoch 25/50\n",
      "45/45 [==============================] - 1s 21ms/step - loss: 0.2960 - accuracy: 0.8845 - val_loss: 0.3654 - val_accuracy: 0.8559\n",
      "Epoch 26/50\n",
      "45/45 [==============================] - 1s 21ms/step - loss: 0.2939 - accuracy: 0.8854 - val_loss: 0.3650 - val_accuracy: 0.8561\n",
      "Epoch 27/50\n",
      "45/45 [==============================] - 1s 21ms/step - loss: 0.2918 - accuracy: 0.8862 - val_loss: 0.3651 - val_accuracy: 0.8568\n",
      "Epoch 28/50\n",
      "45/45 [==============================] - 1s 21ms/step - loss: 0.2899 - accuracy: 0.8871 - val_loss: 0.3652 - val_accuracy: 0.8568\n",
      "Epoch 29/50\n",
      "45/45 [==============================] - 1s 21ms/step - loss: 0.2881 - accuracy: 0.8880 - val_loss: 0.3652 - val_accuracy: 0.8552\n",
      "Epoch 30/50\n",
      "45/45 [==============================] - 1s 21ms/step - loss: 0.2865 - accuracy: 0.8887 - val_loss: 0.3653 - val_accuracy: 0.8557\n",
      "Epoch 31/50\n",
      "45/45 [==============================] - 1s 21ms/step - loss: 0.2849 - accuracy: 0.8894 - val_loss: 0.3658 - val_accuracy: 0.8547\n",
      "Epoch 32/50\n",
      "45/45 [==============================] - 1s 24ms/step - loss: 0.2835 - accuracy: 0.8900 - val_loss: 0.3651 - val_accuracy: 0.8571\n",
      "Epoch 33/50\n",
      "45/45 [==============================] - 1s 26ms/step - loss: 0.2820 - accuracy: 0.8906 - val_loss: 0.3660 - val_accuracy: 0.8562\n",
      "Epoch 34/50\n",
      "45/45 [==============================] - 1s 24ms/step - loss: 0.2806 - accuracy: 0.8913 - val_loss: 0.3659 - val_accuracy: 0.8566\n",
      "Epoch 35/50\n",
      "45/45 [==============================] - 1s 26ms/step - loss: 0.2793 - accuracy: 0.8919 - val_loss: 0.3662 - val_accuracy: 0.8574\n",
      "Epoch 36/50\n",
      "45/45 [==============================] - 1s 26ms/step - loss: 0.2781 - accuracy: 0.8926 - val_loss: 0.3664 - val_accuracy: 0.8577\n",
      "Epoch 37/50\n",
      "45/45 [==============================] - 1s 22ms/step - loss: 0.2769 - accuracy: 0.8930 - val_loss: 0.3667 - val_accuracy: 0.8578\n",
      "Epoch 38/50\n",
      "45/45 [==============================] - 1s 21ms/step - loss: 0.2756 - accuracy: 0.8935 - val_loss: 0.3670 - val_accuracy: 0.8574\n",
      "Epoch 39/50\n",
      "45/45 [==============================] - 1s 21ms/step - loss: 0.2745 - accuracy: 0.8941 - val_loss: 0.3673 - val_accuracy: 0.8584\n",
      "Epoch 40/50\n",
      "45/45 [==============================] - 1s 21ms/step - loss: 0.2734 - accuracy: 0.8944 - val_loss: 0.3677 - val_accuracy: 0.8586\n",
      "Epoch 41/50\n",
      "45/45 [==============================] - 1s 21ms/step - loss: 0.2723 - accuracy: 0.8952 - val_loss: 0.3682 - val_accuracy: 0.8583\n",
      "Epoch 42/50\n",
      "45/45 [==============================] - 1s 21ms/step - loss: 0.2712 - accuracy: 0.8956 - val_loss: 0.3684 - val_accuracy: 0.8580\n",
      "Epoch 43/50\n",
      "45/45 [==============================] - 1s 21ms/step - loss: 0.2700 - accuracy: 0.8960 - val_loss: 0.3687 - val_accuracy: 0.8589\n",
      "Epoch 44/50\n",
      "45/45 [==============================] - 1s 22ms/step - loss: 0.2690 - accuracy: 0.8963 - val_loss: 0.3693 - val_accuracy: 0.8579\n",
      "Epoch 45/50\n",
      "45/45 [==============================] - 1s 21ms/step - loss: 0.2680 - accuracy: 0.8968 - val_loss: 0.3706 - val_accuracy: 0.8580\n",
      "Epoch 46/50\n",
      "45/45 [==============================] - 1s 21ms/step - loss: 0.2669 - accuracy: 0.8973 - val_loss: 0.3704 - val_accuracy: 0.8577\n",
      "Epoch 47/50\n",
      "45/45 [==============================] - 1s 21ms/step - loss: 0.2658 - accuracy: 0.8974 - val_loss: 0.3709 - val_accuracy: 0.8575\n",
      "Epoch 48/50\n",
      "45/45 [==============================] - 1s 21ms/step - loss: 0.2648 - accuracy: 0.8979 - val_loss: 0.3711 - val_accuracy: 0.8583\n",
      "Epoch 49/50\n",
      "45/45 [==============================] - 1s 21ms/step - loss: 0.2637 - accuracy: 0.8987 - val_loss: 0.3717 - val_accuracy: 0.8583\n",
      "Epoch 50/50\n",
      "45/45 [==============================] - 1s 20ms/step - loss: 0.2627 - accuracy: 0.8988 - val_loss: 0.3728 - val_accuracy: 0.8568\n"
     ]
    }
   ],
   "source": [
    "swivel_history = train_and_evaluate(data, val_data, swivel_model)"
   ]
  },
  {
   "cell_type": "code",
   "execution_count": 54,
   "metadata": {
    "tags": []
   },
   "outputs": [
    {
     "data": {
      "text/plain": [
       "<AxesSubplot: >"
      ]
     },
     "execution_count": 54,
     "metadata": {},
     "output_type": "execute_result"
    },
    {
     "data": {
      "image/png": "[encoded data removed]",
      "text/plain": [
       "<Figure size 640x480 with 1 Axes>"
      ]
     },
     "metadata": {},
     "output_type": "display_data"
    },
    {
     "data": {
      "image/png": "[encoded data removed]",
      "text/plain": [
       "<Figure size 640x480 with 1 Axes>"
      ]
     },
     "metadata": {},
     "output_type": "display_data"
    }
   ],
   "source": [
    "history = swivel_history\n",
    "pd.DataFrame(history.history)[['loss', 'val_loss']].plot()\n",
    "pd.DataFrame(history.history)[['accuracy', 'val_accuracy']].plot()"
   ]
  },
  {
   "cell_type": "markdown",
   "metadata": {},
   "source": [
    "Swivel trains faster but achieves a lower validation accuracy, and requires more epochs to train on."
   ]
  },
  {
   "cell_type": "markdown",
   "metadata": {},
   "source": [
    "## Deploying the model"
   ]
  },
  {
   "cell_type": "markdown",
   "metadata": {},
   "source": [
    "The first step is to serialize one of our trained Keras model as a SavedModel:"
   ]
  },
  {
   "cell_type": "code",
   "execution_count": 55,
   "metadata": {
    "tags": []
   },
   "outputs": [
    {
     "name": "stderr",
     "output_type": "stream",
     "text": [
      "2024-01-29 15:07:51.803702: W tensorflow/python/util/util.cc:348] Sets are not currently considered sequences, but this may change in the future, so consider avoiding using them.\n",
      "WARNING:absl:Found untraced functions such as _destroy_resource while saving (showing 1 of 1). These functions will not be directly callable after loading.\n"
     ]
    },
    {
     "name": "stdout",
     "output_type": "stream",
     "text": [
      "INFO:tensorflow:Assets written to: ./savedmodels/swivel/assets\n"
     ]
    },
    {
     "name": "stderr",
     "output_type": "stream",
     "text": [
      "INFO:tensorflow:Assets written to: ./savedmodels/swivel/assets\n"
     ]
    }
   ],
   "source": [
    "OUTPUT_DIR = \"./savedmodels\"\n",
    "shutil.rmtree(OUTPUT_DIR, ignore_errors=True)\n",
    "\n",
    "EXPORT_PATH = os.path.join(OUTPUT_DIR, 'swivel')\n",
    "os.environ['EXPORT_PATH'] = EXPORT_PATH\n",
    "\n",
    "shutil.rmtree(EXPORT_PATH, ignore_errors=True)\n",
    "\n",
    "tf.saved_model.save(swivel_model, EXPORT_PATH)"
   ]
  },
  {
   "cell_type": "markdown",
   "metadata": {},
   "source": [
    "Then we can deploy the model using the gcloud CLI as before:"
   ]
  },
  {
   "cell_type": "markdown",
   "metadata": {},
   "source": [
    "### Lab Task 3a: Complete the following script to deploy the swivel model "
   ]
  },
  {
   "cell_type": "code",
   "execution_count": 68,
   "metadata": {
    "tags": []
   },
   "outputs": [
    {
     "name": "stderr",
     "output_type": "stream",
     "text": [
      "Using endpoint [https://us-central1-ml.googleapis.com/]\n"
     ]
    },
    {
     "name": "stdout",
     "output_type": "stream",
     "text": [
      "title_model already exists\n"
     ]
    },
    {
     "name": "stderr",
     "output_type": "stream",
     "text": [
      "Using endpoint [https://us-central1-ml.googleapis.com/]\n"
     ]
    },
    {
     "name": "stdout",
     "output_type": "stream",
     "text": [
      "Creating title_model:swivel\n"
     ]
    },
    {
     "name": "stderr",
     "output_type": "stream",
     "text": [
      "Using endpoint [https://us-central1-ml.googleapis.com/]\n",
      "ERROR: (gcloud.ai-platform.versions.create) RESOURCE_EXHAUSTED: The requested number of n1-standard-4 exceeds the quota limit. Current usage/limit: 0/0, Requested: 8.\n"
     ]
    },
    {
     "ename": "CalledProcessError",
     "evalue": "Command 'b'\\n# TODO 5\\n\\nMODEL_NAME=title_model\\nVERSION_NAME=swivel\\n\\nif [[ $(gcloud ai-platform models list --format=\\'value(name)\\' | grep ^$MODEL_NAME$) ]]; then\\n    echo \"$MODEL_NAME already exists\"\\nelse\\n    echo \"Creating $MODEL_NAME\"\\n    gcloud ai-platform models create --region=$REGION $MODEL_NAME\\nfi\\n\\nif [[ $(gcloud ai-platform versions list --model $MODEL_NAME --format=\\'value(name)\\' | grep ^$VERSION_NAME$) ]]; then\\n    echo \"Deleting already existing $MODEL_NAME:$VERSION_NAME ... \"\\n    echo yes | gcloud ai-platform versions delete --model=$MODEL_NAME $VERSION_NAME\\n    echo \"Please run this cell again if you don\\'t see a Creating message ... \"\\n    sleep 2\\nfi\\n\\necho \"Creating $MODEL_NAME:$VERSION_NAME\"\\ngcloud ai-platform versions create \\\\\\n  --model=$MODEL_NAME $VERSION_NAME \\\\\\n  --framework=tensorflow \\\\\\n  --python-version=3.7 \\\\\\n  --runtime-version=2.1 \\\\\\n  --origin=$EXPORT_PATH \\\\\\n  --staging-bucket=gs://$BUCKET \\\\\\n  --machine-type n1-standard-4 \\\\\\n  --region=$REGION\\n'' returned non-zero exit status 1.",
     "output_type": "error",
     "traceback": [
      "\u001b[0;31m---------------------------------------------------------------------------\u001b[0m",
      "\u001b[0;31mCalledProcessError\u001b[0m                        Traceback (most recent call last)",
      "Cell \u001b[0;32mIn[68], line 1\u001b[0m\n\u001b[0;32m----> 1\u001b[0m \u001b[43mget_ipython\u001b[49m\u001b[43m(\u001b[49m\u001b[43m)\u001b[49m\u001b[38;5;241;43m.\u001b[39;49m\u001b[43mrun_cell_magic\u001b[49m\u001b[43m(\u001b[49m\u001b[38;5;124;43m'\u001b[39;49m\u001b[38;5;124;43mbash\u001b[39;49m\u001b[38;5;124;43m'\u001b[39;49m\u001b[43m,\u001b[49m\u001b[43m \u001b[49m\u001b[38;5;124;43m'\u001b[39;49m\u001b[38;5;124;43m'\u001b[39;49m\u001b[43m,\u001b[49m\u001b[43m \u001b[49m\u001b[38;5;124;43m'\u001b[39;49m\u001b[38;5;130;43;01m\\n\u001b[39;49;00m\u001b[38;5;124;43m# TODO 5\u001b[39;49m\u001b[38;5;130;43;01m\\n\u001b[39;49;00m\u001b[38;5;130;43;01m\\n\u001b[39;49;00m\u001b[38;5;124;43mMODEL_NAME=title_model\u001b[39;49m\u001b[38;5;130;43;01m\\n\u001b[39;49;00m\u001b[38;5;124;43mVERSION_NAME=swivel\u001b[39;49m\u001b[38;5;130;43;01m\\n\u001b[39;49;00m\u001b[38;5;130;43;01m\\n\u001b[39;49;00m\u001b[38;5;124;43mif [[ $(gcloud ai-platform models list --format=\u001b[39;49m\u001b[38;5;130;43;01m\\'\u001b[39;49;00m\u001b[38;5;124;43mvalue(name)\u001b[39;49m\u001b[38;5;130;43;01m\\'\u001b[39;49;00m\u001b[38;5;124;43m | grep ^$MODEL_NAME$) ]]; then\u001b[39;49m\u001b[38;5;130;43;01m\\n\u001b[39;49;00m\u001b[38;5;124;43m    echo \u001b[39;49m\u001b[38;5;124;43m\"\u001b[39;49m\u001b[38;5;124;43m$MODEL_NAME already exists\u001b[39;49m\u001b[38;5;124;43m\"\u001b[39;49m\u001b[38;5;130;43;01m\\n\u001b[39;49;00m\u001b[38;5;124;43melse\u001b[39;49m\u001b[38;5;130;43;01m\\n\u001b[39;49;00m\u001b[38;5;124;43m    echo \u001b[39;49m\u001b[38;5;124;43m\"\u001b[39;49m\u001b[38;5;124;43mCreating $MODEL_NAME\u001b[39;49m\u001b[38;5;124;43m\"\u001b[39;49m\u001b[38;5;130;43;01m\\n\u001b[39;49;00m\u001b[38;5;124;43m    gcloud ai-platform models create --region=$REGION $MODEL_NAME\u001b[39;49m\u001b[38;5;130;43;01m\\n\u001b[39;49;00m\u001b[38;5;124;43mfi\u001b[39;49m\u001b[38;5;130;43;01m\\n\u001b[39;49;00m\u001b[38;5;130;43;01m\\n\u001b[39;49;00m\u001b[38;5;124;43mif [[ $(gcloud ai-platform versions list --model $MODEL_NAME --format=\u001b[39;49m\u001b[38;5;130;43;01m\\'\u001b[39;49;00m\u001b[38;5;124;43mvalue(name)\u001b[39;49m\u001b[38;5;130;43;01m\\'\u001b[39;49;00m\u001b[38;5;124;43m | grep ^$VERSION_NAME$) ]]; then\u001b[39;49m\u001b[38;5;130;43;01m\\n\u001b[39;49;00m\u001b[38;5;124;43m    echo \u001b[39;49m\u001b[38;5;124;43m\"\u001b[39;49m\u001b[38;5;124;43mDeleting already existing $MODEL_NAME:$VERSION_NAME ... \u001b[39;49m\u001b[38;5;124;43m\"\u001b[39;49m\u001b[38;5;130;43;01m\\n\u001b[39;49;00m\u001b[38;5;124;43m    echo yes | gcloud ai-platform versions delete --model=$MODEL_NAME $VERSION_NAME\u001b[39;49m\u001b[38;5;130;43;01m\\n\u001b[39;49;00m\u001b[38;5;124;43m    echo \u001b[39;49m\u001b[38;5;124;43m\"\u001b[39;49m\u001b[38;5;124;43mPlease run this cell again if you don\u001b[39;49m\u001b[38;5;130;43;01m\\'\u001b[39;49;00m\u001b[38;5;124;43mt see a Creating message ... \u001b[39;49m\u001b[38;5;124;43m\"\u001b[39;49m\u001b[38;5;130;43;01m\\n\u001b[39;49;00m\u001b[38;5;124;43m    sleep 2\u001b[39;49m\u001b[38;5;130;43;01m\\n\u001b[39;49;00m\u001b[38;5;124;43mfi\u001b[39;49m\u001b[38;5;130;43;01m\\n\u001b[39;49;00m\u001b[38;5;130;43;01m\\n\u001b[39;49;00m\u001b[38;5;124;43mecho \u001b[39;49m\u001b[38;5;124;43m\"\u001b[39;49m\u001b[38;5;124;43mCreating $MODEL_NAME:$VERSION_NAME\u001b[39;49m\u001b[38;5;124;43m\"\u001b[39;49m\u001b[38;5;130;43;01m\\n\u001b[39;49;00m\u001b[38;5;124;43mgcloud ai-platform versions create \u001b[39;49m\u001b[38;5;130;43;01m\\\\\u001b[39;49;00m\u001b[38;5;130;43;01m\\n\u001b[39;49;00m\u001b[38;5;124;43m  --model=$MODEL_NAME $VERSION_NAME \u001b[39;49m\u001b[38;5;130;43;01m\\\\\u001b[39;49;00m\u001b[38;5;130;43;01m\\n\u001b[39;49;00m\u001b[38;5;124;43m  --framework=tensorflow \u001b[39;49m\u001b[38;5;130;43;01m\\\\\u001b[39;49;00m\u001b[38;5;130;43;01m\\n\u001b[39;49;00m\u001b[38;5;124;43m  --python-version=3.7 \u001b[39;49m\u001b[38;5;130;43;01m\\\\\u001b[39;49;00m\u001b[38;5;130;43;01m\\n\u001b[39;49;00m\u001b[38;5;124;43m  --runtime-version=2.1 \u001b[39;49m\u001b[38;5;130;43;01m\\\\\u001b[39;49;00m\u001b[38;5;130;43;01m\\n\u001b[39;49;00m\u001b[38;5;124;43m  --origin=$EXPORT_PATH \u001b[39;49m\u001b[38;5;130;43;01m\\\\\u001b[39;49;00m\u001b[38;5;130;43;01m\\n\u001b[39;49;00m\u001b[38;5;124;43m  --staging-bucket=gs://$BUCKET \u001b[39;49m\u001b[38;5;130;43;01m\\\\\u001b[39;49;00m\u001b[38;5;130;43;01m\\n\u001b[39;49;00m\u001b[38;5;124;43m  --machine-type n1-standard-4 \u001b[39;49m\u001b[38;5;130;43;01m\\\\\u001b[39;49;00m\u001b[38;5;130;43;01m\\n\u001b[39;49;00m\u001b[38;5;124;43m  --region=$REGION\u001b[39;49m\u001b[38;5;130;43;01m\\n\u001b[39;49;00m\u001b[38;5;124;43m'\u001b[39;49m\u001b[43m)\u001b[49m\n",
      "File \u001b[0;32m/opt/conda/lib/python3.9/site-packages/IPython/core/interactiveshell.py:2517\u001b[0m, in \u001b[0;36mInteractiveShell.run_cell_magic\u001b[0;34m(self, magic_name, line, cell)\u001b[0m\n\u001b[1;32m   2515\u001b[0m \u001b[38;5;28;01mwith\u001b[39;00m \u001b[38;5;28mself\u001b[39m\u001b[38;5;241m.\u001b[39mbuiltin_trap:\n\u001b[1;32m   2516\u001b[0m     args \u001b[38;5;241m=\u001b[39m (magic_arg_s, cell)\n\u001b[0;32m-> 2517\u001b[0m     result \u001b[38;5;241m=\u001b[39m \u001b[43mfn\u001b[49m\u001b[43m(\u001b[49m\u001b[38;5;241;43m*\u001b[39;49m\u001b[43margs\u001b[49m\u001b[43m,\u001b[49m\u001b[43m \u001b[49m\u001b[38;5;241;43m*\u001b[39;49m\u001b[38;5;241;43m*\u001b[39;49m\u001b[43mkwargs\u001b[49m\u001b[43m)\u001b[49m\n\u001b[1;32m   2519\u001b[0m \u001b[38;5;66;03m# The code below prevents the output from being displayed\u001b[39;00m\n\u001b[1;32m   2520\u001b[0m \u001b[38;5;66;03m# when using magics with decorator @output_can_be_silenced\u001b[39;00m\n\u001b[1;32m   2521\u001b[0m \u001b[38;5;66;03m# when the last Python token in the expression is a ';'.\u001b[39;00m\n\u001b[1;32m   2522\u001b[0m \u001b[38;5;28;01mif\u001b[39;00m \u001b[38;5;28mgetattr\u001b[39m(fn, magic\u001b[38;5;241m.\u001b[39mMAGIC_OUTPUT_CAN_BE_SILENCED, \u001b[38;5;28;01mFalse\u001b[39;00m):\n",
      "File \u001b[0;32m/opt/conda/lib/python3.9/site-packages/IPython/core/magics/script.py:154\u001b[0m, in \u001b[0;36mScriptMagics._make_script_magic.<locals>.named_script_magic\u001b[0;34m(line, cell)\u001b[0m\n\u001b[1;32m    152\u001b[0m \u001b[38;5;28;01melse\u001b[39;00m:\n\u001b[1;32m    153\u001b[0m     line \u001b[38;5;241m=\u001b[39m script\n\u001b[0;32m--> 154\u001b[0m \u001b[38;5;28;01mreturn\u001b[39;00m \u001b[38;5;28;43mself\u001b[39;49m\u001b[38;5;241;43m.\u001b[39;49m\u001b[43mshebang\u001b[49m\u001b[43m(\u001b[49m\u001b[43mline\u001b[49m\u001b[43m,\u001b[49m\u001b[43m \u001b[49m\u001b[43mcell\u001b[49m\u001b[43m)\u001b[49m\n",
      "File \u001b[0;32m/opt/conda/lib/python3.9/site-packages/IPython/core/magics/script.py:314\u001b[0m, in \u001b[0;36mScriptMagics.shebang\u001b[0;34m(self, line, cell)\u001b[0m\n\u001b[1;32m    309\u001b[0m \u001b[38;5;28;01mif\u001b[39;00m args\u001b[38;5;241m.\u001b[39mraise_error \u001b[38;5;129;01mand\u001b[39;00m p\u001b[38;5;241m.\u001b[39mreturncode \u001b[38;5;241m!=\u001b[39m \u001b[38;5;241m0\u001b[39m:\n\u001b[1;32m    310\u001b[0m     \u001b[38;5;66;03m# If we get here and p.returncode is still None, we must have\u001b[39;00m\n\u001b[1;32m    311\u001b[0m     \u001b[38;5;66;03m# killed it but not yet seen its return code. We don't wait for it,\u001b[39;00m\n\u001b[1;32m    312\u001b[0m     \u001b[38;5;66;03m# in case it's stuck in uninterruptible sleep. -9 = SIGKILL\u001b[39;00m\n\u001b[1;32m    313\u001b[0m     rc \u001b[38;5;241m=\u001b[39m p\u001b[38;5;241m.\u001b[39mreturncode \u001b[38;5;129;01mor\u001b[39;00m \u001b[38;5;241m-\u001b[39m\u001b[38;5;241m9\u001b[39m\n\u001b[0;32m--> 314\u001b[0m     \u001b[38;5;28;01mraise\u001b[39;00m CalledProcessError(rc, cell)\n",
      "\u001b[0;31mCalledProcessError\u001b[0m: Command 'b'\\n# TODO 5\\n\\nMODEL_NAME=title_model\\nVERSION_NAME=swivel\\n\\nif [[ $(gcloud ai-platform models list --format=\\'value(name)\\' | grep ^$MODEL_NAME$) ]]; then\\n    echo \"$MODEL_NAME already exists\"\\nelse\\n    echo \"Creating $MODEL_NAME\"\\n    gcloud ai-platform models create --region=$REGION $MODEL_NAME\\nfi\\n\\nif [[ $(gcloud ai-platform versions list --model $MODEL_NAME --format=\\'value(name)\\' | grep ^$VERSION_NAME$) ]]; then\\n    echo \"Deleting already existing $MODEL_NAME:$VERSION_NAME ... \"\\n    echo yes | gcloud ai-platform versions delete --model=$MODEL_NAME $VERSION_NAME\\n    echo \"Please run this cell again if you don\\'t see a Creating message ... \"\\n    sleep 2\\nfi\\n\\necho \"Creating $MODEL_NAME:$VERSION_NAME\"\\ngcloud ai-platform versions create \\\\\\n  --model=$MODEL_NAME $VERSION_NAME \\\\\\n  --framework=tensorflow \\\\\\n  --python-version=3.7 \\\\\\n  --runtime-version=2.1 \\\\\\n  --origin=$EXPORT_PATH \\\\\\n  --staging-bucket=gs://$BUCKET \\\\\\n  --machine-type n1-standard-4 \\\\\\n  --region=$REGION\\n'' returned non-zero exit status 1."
     ]
    }
   ],
   "source": [
    "%%bash\n",
    "\n",
    "# TODO 5\n",
    "\n",
    "MODEL_NAME=title_model\n",
    "VERSION_NAME=swivel\n",
    "\n",
    "if [[ $(gcloud ai-platform models list --format='value(name)' | grep ^$MODEL_NAME$) ]]; then\n",
    "    echo \"$MODEL_NAME already exists\"\n",
    "else\n",
    "    echo \"Creating $MODEL_NAME\"\n",
    "    gcloud ai-platform models create --region=$REGION $MODEL_NAME\n",
    "fi\n",
    "\n",
    "if [[ $(gcloud ai-platform versions list --model $MODEL_NAME --format='value(name)' | grep ^$VERSION_NAME$) ]]; then\n",
    "    echo \"Deleting already existing $MODEL_NAME:$VERSION_NAME ... \"\n",
    "    echo yes | gcloud ai-platform versions delete --model=$MODEL_NAME $VERSION_NAME\n",
    "    echo \"Please run this cell again if you don't see a Creating message ... \"\n",
    "    sleep 2\n",
    "fi\n",
    "\n",
    "echo \"Creating $MODEL_NAME:$VERSION_NAME\"\n",
    "gcloud ai-platform versions create \\\n",
    "  --model=$MODEL_NAME $VERSION_NAME \\\n",
    "  --framework=tensorflow \\\n",
    "  --python-version=3.7 \\\n",
    "  --runtime-version=2.1 \\\n",
    "  --origin=$EXPORT_PATH \\\n",
    "  --staging-bucket=gs://$BUCKET \\\n",
    "  --machine-type n1-standard-4 \\\n",
    "  --region=$REGION"
   ]
  },
  {
   "cell_type": "markdown",
   "metadata": {},
   "source": [
    "Before we try our deployed model, let's inspect its signature to know what to send to the deployed API:"
   ]
  },
  {
   "cell_type": "code",
   "execution_count": null,
   "metadata": {
    "tags": []
   },
   "outputs": [],
   "source": [
    "!saved_model_cli show \\\n",
    " --tag_set serve \\\n",
    " --signature_def serving_default \\\n",
    " --dir {EXPORT_PATH}\n",
    "!find {EXPORT_PATH}"
   ]
  },
  {
   "cell_type": "markdown",
   "metadata": {},
   "source": [
    "Let's go ahead and hit our model:"
   ]
  },
  {
   "cell_type": "markdown",
   "metadata": {},
   "source": [
    "### Lab Task 3b: Create the JSON object to send a title to the API  you just deployed\n",
    "(**Hint:** Look at the 'saved_model_cli show' command output above.)"
   ]
  },
  {
   "cell_type": "code",
   "execution_count": null,
   "metadata": {
    "tags": []
   },
   "outputs": [],
   "source": [
    "%%writefile input.json\n",
    "{\"keras_layer_1_input\":\"Hello, this model is not Gemini\"}"
   ]
  },
  {
   "cell_type": "code",
   "execution_count": null,
   "metadata": {
    "tags": []
   },
   "outputs": [],
   "source": [
    "!gcloud ai-platform predict \\\n",
    "  --model title_model \\\n",
    "  --json-instances input.json \\\n",
    "  --version swivel \\\n",
    "  --region=$REGION"
   ]
  },
  {
   "cell_type": "markdown",
   "metadata": {},
   "source": [
    "## Bonus"
   ]
  },
  {
   "cell_type": "markdown",
   "metadata": {},
   "source": [
    "Try to beat the best model by modifying the model architecture, changing the TF-Hub embedding, and tweaking the training parameters."
   ]
  },
  {
   "cell_type": "markdown",
   "metadata": {},
   "source": [
    "Copyright 2023 Google Inc. Licensed under the Apache License, Version 2.0 (the \"License\"); you may not use this file except in compliance with the License. You may obtain a copy of the License at http://www.apache.org/licenses/LICENSE-2.0 Unless required by applicable law or agreed to in writing, software distributed under the License is distributed on an \"AS IS\" BASIS, WITHOUT WARRANTIES OR CONDITIONS OF ANY KIND, either express or implied. See the License for the specific language governing permissions and limitations under the License"
   ]
  }
 ],
 "metadata": {
  "environment": {
   "kernel": "python3",
   "name": "tf2-gpu.2-6.m115",
   "type": "gcloud",
   "uri": "gcr.io/deeplearning-platform-release/tf2-gpu.2-6:m115"
  },
  "kernelspec": {
   "display_name": "Python 3 (Local)",
   "language": "python",
   "name": "python3"
  },
  "language_info": {
   "codemirror_mode": {
    "name": "ipython",
    "version": 3
   },
   "file_extension": ".py",
   "mimetype": "text/x-python",
   "name": "python",
   "nbconvert_exporter": "python",
   "pygments_lexer": "ipython3",
   "version": "3.9.18"
  }
 },
 "nbformat": 4,
 "nbformat_minor": 4
}
