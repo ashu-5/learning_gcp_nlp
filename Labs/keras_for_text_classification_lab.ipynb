{
 "cells": [
  {
   "cell_type": "markdown",
   "metadata": {},
   "source": [
    "# Keras for Text Classification\n",
    "\n",
    "## Learning Objectives\n",
    "1. Learn how to create a text classification datasets using BigQuery.\n",
    "1. Learn how to tokenize and integerize a corpus of text for training in Keras.\n",
    "1. Learn how to do one-hot-encodings in Keras.\n",
    "1. Learn how to use embedding layers to represent words in Keras.\n",
    "1. Learn about the bag-of-word representation for sentences.\n",
    "1. Learn how to use DNN/CNN/RNN model to classify text in keras.\n",
    "\n",
    "## Introduction\n",
    "\n",
    "\n",
    "In this notebook, we will implement text models to recognize the probable source (Github, Tech-Crunch, or The New-York Times) of the titles we have in the title dataset we constructed in the first task of the lab.\n",
    "\n",
    "In the next step, we will load and pre-process the texts and labels so that they are suitable to be fed to a Keras model. For the texts of the titles we will learn how to split them into a list of tokens, and then how to map each token to an integer using the Keras Tokenizer class. What will be fed to our Keras models will be batches of padded list of integers representing the text. For the labels, we will learn how to one-hot-encode each of the 3 classes into a 3 dimensional basis vector.\n",
    "\n",
    "Then we will explore a few possible models to do the title classification. All models will be fed padded list of integers, and all models will start with a Keras Embedding layer that transforms the integer representing the words into dense vectors.\n",
    "\n",
    "The first model will be a simple bag-of-word DNN model that averages up the word vectors and feeds the tensor that results to further dense layers. Doing so means that we forget the word order (and hence that we consider sentences as a “bag-of-words”). In the second and in the third model we will keep the information about the word order using a simple RNN and a simple CNN allowing us to achieve the same performance as with the DNN model but in much fewer epochs.\n",
    "\n",
    "Each learning objective will correspond to a __#TODO__ in this student lab notebook -- try to complete this notebook first and then review the [solution notebook](../solutions/keras_for_text_classification.ipynb)."
   ]
  },
  {
   "cell_type": "code",
   "execution_count": 1,
   "metadata": {
    "tags": []
   },
   "outputs": [],
   "source": [
    "import os\n",
    "\n",
    "from google.cloud import bigquery\n",
    "import pandas as pd"
   ]
  },
  {
   "cell_type": "code",
   "execution_count": 2,
   "metadata": {
    "tags": []
   },
   "outputs": [
    {
     "name": "stdout",
     "output_type": "stream",
     "text": [
      "The google.cloud.bigquery extension is already loaded. To reload it, use:\n",
      "  %reload_ext google.cloud.bigquery\n"
     ]
    }
   ],
   "source": [
    "%load_ext google.cloud.bigquery"
   ]
  },
  {
   "cell_type": "markdown",
   "metadata": {},
   "source": [
    "Replace the variable values in the cell below:"
   ]
  },
  {
   "cell_type": "code",
   "execution_count": 13,
   "metadata": {
    "tags": []
   },
   "outputs": [],
   "source": [
    "PROJECT = 'qwiklabs-gcp-01-cf2450fa2c8f'  # Replace with your PROJECT\n",
    "BUCKET = PROJECT  # defaults to PROJECT\n",
    "REGION = 'us-central1'  # Replace with your REGION\n",
    "SEED = 0"
   ]
  },
  {
   "cell_type": "markdown",
   "metadata": {},
   "source": [
    "## Create a Dataset from BigQuery \n",
    "\n",
    "Hacker news headlines are available as a BigQuery public dataset. The [dataset](https://console.cloud.google.com/bigquery?project=bigquery-public-data&page=table&t=stories&d=hacker_news&p=bigquery-public-data&redirect_from_classic=true) contains all headlines from the sites inception in October 2006 until October 2015. \n",
    "\n",
    "### Lab Task 1a: \n",
    "Complete the query below to create a sample dataset containing the `url`, `title`, and `score` of articles from the public dataset `bigquery-public-data.hacker_news.stories`. Use a WHERE clause to restrict to only those articles with\n",
    "* title length greater than 10 characters\n",
    "* score greater than 10\n",
    "* url length greater than 0 characters"
   ]
  },
  {
   "cell_type": "code",
   "execution_count": 15,
   "metadata": {
    "tags": []
   },
   "outputs": [
    {
     "data": {
      "application/vnd.jupyter.widget-view+json": {
       "model_id": "61f199472d274bf4aec3e9771967a484",
       "version_major": 2,
       "version_minor": 0
      },
      "text/plain": [
       "Query is running:   0%|          |"
      ]
     },
     "metadata": {},
     "output_type": "display_data"
    },
    {
     "data": {
      "application/vnd.jupyter.widget-view+json": {
       "model_id": "ee3cc93c42fc47c0927b6191ca851cdd",
       "version_major": 2,
       "version_minor": 0
      },
      "text/plain": [
       "Downloading:   0%|          |"
      ]
     },
     "metadata": {},
     "output_type": "display_data"
    },
    {
     "data": {
      "text/html": [
       "<div>\n",
       "<style scoped>\n",
       "    .dataframe tbody tr th:only-of-type {\n",
       "        vertical-align: middle;\n",
       "    }\n",
       "\n",
       "    .dataframe tbody tr th {\n",
       "        vertical-align: top;\n",
       "    }\n",
       "\n",
       "    .dataframe thead th {\n",
       "        text-align: right;\n",
       "    }\n",
       "</style>\n",
       "<table border=\"1\" class=\"dataframe\">\n",
       "  <thead>\n",
       "    <tr style=\"text-align: right;\">\n",
       "      <th></th>\n",
       "      <th>url</th>\n",
       "      <th>title</th>\n",
       "      <th>score</th>\n",
       "    </tr>\n",
       "  </thead>\n",
       "  <tbody>\n",
       "    <tr>\n",
       "      <th>0</th>\n",
       "      <td>http://www.slideshare.net/linkedin/linkedins-c...</td>\n",
       "      <td>LinkedIn Architecture</td>\n",
       "      <td>12</td>\n",
       "    </tr>\n",
       "    <tr>\n",
       "      <th>1</th>\n",
       "      <td>http://www.effectgames.com/demos/canvascycle/</td>\n",
       "      <td>Few HTML5 demos with animation and sound</td>\n",
       "      <td>17</td>\n",
       "    </tr>\n",
       "    <tr>\n",
       "      <th>2</th>\n",
       "      <td>http://www.rackspace.com/email_hosting/blog/20...</td>\n",
       "      <td>Rackspace Will Pay for Your Upgrade to Apple’s...</td>\n",
       "      <td>19</td>\n",
       "    </tr>\n",
       "    <tr>\n",
       "      <th>3</th>\n",
       "      <td>http://thread.ly/</td>\n",
       "      <td>Show HN: Thread.ly - a news reading and sharin...</td>\n",
       "      <td>20</td>\n",
       "    </tr>\n",
       "    <tr>\n",
       "      <th>4</th>\n",
       "      <td>http://srirangan.net/2012-10-its-2012-stop-dup...</td>\n",
       "      <td>Please stop duplicating Rails</td>\n",
       "      <td>28</td>\n",
       "    </tr>\n",
       "    <tr>\n",
       "      <th>5</th>\n",
       "      <td>http://povolotski.me/2013/09/29/free-web-servi...</td>\n",
       "      <td>Are “free” web-services cheese in a mousetrap?</td>\n",
       "      <td>34</td>\n",
       "    </tr>\n",
       "    <tr>\n",
       "      <th>6</th>\n",
       "      <td>https://news.ycombinator.com/bookmarklet.html</td>\n",
       "      <td>Y Combinator: Bookmarklet</td>\n",
       "      <td>37</td>\n",
       "    </tr>\n",
       "    <tr>\n",
       "      <th>7</th>\n",
       "      <td>https://getyourmap.com/</td>\n",
       "      <td>Show HN – Get Your Own Maps – Pixel Perfect</td>\n",
       "      <td>51</td>\n",
       "    </tr>\n",
       "    <tr>\n",
       "      <th>8</th>\n",
       "      <td>http://online.wsj.com/news/article_email/SB100...</td>\n",
       "      <td>Apple Buys Twitter Analytics Startup Topsy Labs</td>\n",
       "      <td>68</td>\n",
       "    </tr>\n",
       "    <tr>\n",
       "      <th>9</th>\n",
       "      <td>http://www-inst.eecs.berkeley.edu/~cs61a/sp12/</td>\n",
       "      <td>SICP taught in Python 3 - UC Berkeley online</td>\n",
       "      <td>107</td>\n",
       "    </tr>\n",
       "  </tbody>\n",
       "</table>\n",
       "</div>"
      ],
      "text/plain": [
       "                                                 url  \\\n",
       "0  http://www.slideshare.net/linkedin/linkedins-c...   \n",
       "1      http://www.effectgames.com/demos/canvascycle/   \n",
       "2  http://www.rackspace.com/email_hosting/blog/20...   \n",
       "3                                  http://thread.ly/   \n",
       "4  http://srirangan.net/2012-10-its-2012-stop-dup...   \n",
       "5  http://povolotski.me/2013/09/29/free-web-servi...   \n",
       "6      https://news.ycombinator.com/bookmarklet.html   \n",
       "7                            https://getyourmap.com/   \n",
       "8  http://online.wsj.com/news/article_email/SB100...   \n",
       "9     http://www-inst.eecs.berkeley.edu/~cs61a/sp12/   \n",
       "\n",
       "                                               title  score  \n",
       "0                              LinkedIn Architecture     12  \n",
       "1           Few HTML5 demos with animation and sound     17  \n",
       "2  Rackspace Will Pay for Your Upgrade to Apple’s...     19  \n",
       "3  Show HN: Thread.ly - a news reading and sharin...     20  \n",
       "4                      Please stop duplicating Rails     28  \n",
       "5     Are “free” web-services cheese in a mousetrap?     34  \n",
       "6                          Y Combinator: Bookmarklet     37  \n",
       "7        Show HN – Get Your Own Maps – Pixel Perfect     51  \n",
       "8    Apple Buys Twitter Analytics Startup Topsy Labs     68  \n",
       "9       SICP taught in Python 3 - UC Berkeley online    107  "
      ]
     },
     "execution_count": 15,
     "metadata": {},
     "output_type": "execute_result"
    }
   ],
   "source": [
    "%%bigquery --project $PROJECT\n",
    "\n",
    "SELECT\n",
    "    url, title, score \n",
    "FROM\n",
    "    `bigquery-public-data.hacker_news.full`\n",
    "WHERE\n",
    "    length(title)>10 and \n",
    "    score>10 and \n",
    "    length(url)>0\n",
    "LIMIT 10"
   ]
  },
  {
   "cell_type": "markdown",
   "metadata": {},
   "source": [
    "Let's do some regular expression parsing in BigQuery to get the source of the newspaper article from the URL. For example, if the url is http://mobile.nytimes.com/...., I want to be left with <i>nytimes</i>"
   ]
  },
  {
   "cell_type": "markdown",
   "metadata": {},
   "source": [
    "### Lab task 1b:\n",
    "Complete the query below to count the number of titles within each 'source' category. Note that to grab the 'source' of the article we use the a regex command on the `url` of the article. To count the number of articles you'll use a `GROUP BY` in sql, and we'll also restrict our attention to only those articles whose title has greater than 10 characters."
   ]
  },
  {
   "cell_type": "code",
   "execution_count": 19,
   "metadata": {
    "tags": []
   },
   "outputs": [
    {
     "data": {
      "application/vnd.jupyter.widget-view+json": {
       "model_id": "cb347b8741924017bcdba5003994bed5",
       "version_major": 2,
       "version_minor": 0
      },
      "text/plain": [
       "Query is running:   0%|          |"
      ]
     },
     "metadata": {},
     "output_type": "display_data"
    },
    {
     "data": {
      "application/vnd.jupyter.widget-view+json": {
       "model_id": "70da65c7f124468fbd7ba4b969f360a6",
       "version_major": 2,
       "version_minor": 0
      },
      "text/plain": [
       "Downloading:   0%|          |"
      ]
     },
     "metadata": {},
     "output_type": "display_data"
    },
    {
     "data": {
      "text/html": [
       "<div>\n",
       "<style scoped>\n",
       "    .dataframe tbody tr th:only-of-type {\n",
       "        vertical-align: middle;\n",
       "    }\n",
       "\n",
       "    .dataframe tbody tr th {\n",
       "        vertical-align: top;\n",
       "    }\n",
       "\n",
       "    .dataframe thead th {\n",
       "        text-align: right;\n",
       "    }\n",
       "</style>\n",
       "<table border=\"1\" class=\"dataframe\">\n",
       "  <thead>\n",
       "    <tr style=\"text-align: right;\">\n",
       "      <th></th>\n",
       "      <th>source</th>\n",
       "      <th>num_articles</th>\n",
       "    </tr>\n",
       "  </thead>\n",
       "  <tbody>\n",
       "    <tr>\n",
       "      <th>0</th>\n",
       "      <td>github</td>\n",
       "      <td>123624</td>\n",
       "    </tr>\n",
       "    <tr>\n",
       "      <th>1</th>\n",
       "      <td>medium</td>\n",
       "      <td>111783</td>\n",
       "    </tr>\n",
       "    <tr>\n",
       "      <th>2</th>\n",
       "      <td>youtube</td>\n",
       "      <td>89728</td>\n",
       "    </tr>\n",
       "    <tr>\n",
       "      <th>3</th>\n",
       "      <td>nytimes</td>\n",
       "      <td>64827</td>\n",
       "    </tr>\n",
       "    <tr>\n",
       "      <th>4</th>\n",
       "      <td>blogspot</td>\n",
       "      <td>53082</td>\n",
       "    </tr>\n",
       "    <tr>\n",
       "      <th>...</th>\n",
       "      <td>...</td>\n",
       "      <td>...</td>\n",
       "    </tr>\n",
       "    <tr>\n",
       "      <th>95</th>\n",
       "      <td>nextplatform</td>\n",
       "      <td>2359</td>\n",
       "    </tr>\n",
       "    <tr>\n",
       "      <th>96</th>\n",
       "      <td>anandtech</td>\n",
       "      <td>2351</td>\n",
       "    </tr>\n",
       "    <tr>\n",
       "      <th>97</th>\n",
       "      <td>politico</td>\n",
       "      <td>2340</td>\n",
       "    </tr>\n",
       "    <tr>\n",
       "      <th>98</th>\n",
       "      <td>extremetech</td>\n",
       "      <td>2333</td>\n",
       "    </tr>\n",
       "    <tr>\n",
       "      <th>99</th>\n",
       "      <td>atlasobscura</td>\n",
       "      <td>2296</td>\n",
       "    </tr>\n",
       "  </tbody>\n",
       "</table>\n",
       "<p>100 rows × 2 columns</p>\n",
       "</div>"
      ],
      "text/plain": [
       "          source  num_articles\n",
       "0         github        123624\n",
       "1         medium        111783\n",
       "2        youtube         89728\n",
       "3        nytimes         64827\n",
       "4       blogspot         53082\n",
       "..           ...           ...\n",
       "95  nextplatform          2359\n",
       "96     anandtech          2351\n",
       "97      politico          2340\n",
       "98   extremetech          2333\n",
       "99  atlasobscura          2296\n",
       "\n",
       "[100 rows x 2 columns]"
      ]
     },
     "execution_count": 19,
     "metadata": {},
     "output_type": "execute_result"
    }
   ],
   "source": [
    "%%bigquery --project $PROJECT\n",
    "\n",
    "SELECT\n",
    "    ARRAY_REVERSE(SPLIT(REGEXP_EXTRACT(url, '.*://(.[^/]+)/'), '.'))[SAFE_OFFSET(1)] AS source,\n",
    "    count(title) as num_articles \n",
    "    # TODO: Your code goes here.\n",
    "FROM\n",
    "    `bigquery-public-data.hacker_news.full`\n",
    "WHERE\n",
    "    REGEXP_CONTAINS(REGEXP_EXTRACT(url, '.*://(.[^/]+)/'), '.com$')\n",
    "    and length(title)>10 # TODO: Your code goes here.\n",
    "GROUP BY\n",
    "    source # TODO: Your code goes here.\n",
    "ORDER BY num_articles DESC\n",
    "LIMIT 100"
   ]
  },
  {
   "cell_type": "markdown",
   "metadata": {},
   "source": [
    "Now that we have good parsing of the URL to get the source, let's put together a dataset of source and titles. This will be our labeled dataset for machine learning."
   ]
  },
  {
   "cell_type": "code",
   "execution_count": 20,
   "metadata": {
    "tags": []
   },
   "outputs": [
    {
     "name": "stdout",
     "output_type": "stream",
     "text": [
      "\n",
      "SELECT \n",
      "    LOWER(REGEXP_REPLACE(title, '[^a-zA-Z0-9 $.-]', ' ')) AS title,\n",
      "    source\n",
      "FROM\n",
      "  (\n",
      "SELECT\n",
      "    title,\n",
      "    ARRAY_REVERSE(SPLIT(REGEXP_EXTRACT(url, '.*://(.[^/]+)/'), '.'))[SAFE_OFFSET(1)] AS source\n",
      "    \n",
      "FROM\n",
      "    `bigquery-public-data.hacker_news.full`\n",
      "WHERE\n",
      "    REGEXP_CONTAINS(REGEXP_EXTRACT(url, '.*://(.[^/]+)/'), '.com$')\n",
      "    AND LENGTH(title) > 10\n",
      ")\n",
      "WHERE (source = 'github' OR source = 'nytimes' OR source = 'techcrunch')\n",
      "\n"
     ]
    }
   ],
   "source": [
    "regex = '.*://(.[^/]+)/'\n",
    "\n",
    "\n",
    "sub_query = \"\"\"\n",
    "SELECT\n",
    "    title,\n",
    "    ARRAY_REVERSE(SPLIT(REGEXP_EXTRACT(url, '{0}'), '.'))[SAFE_OFFSET(1)] AS source\n",
    "    \n",
    "FROM\n",
    "    `bigquery-public-data.hacker_news.full`\n",
    "WHERE\n",
    "    REGEXP_CONTAINS(REGEXP_EXTRACT(url, '{0}'), '.com$')\n",
    "    AND LENGTH(title) > 10\n",
    "\"\"\".format(regex)\n",
    "\n",
    "\n",
    "query = \"\"\"\n",
    "SELECT \n",
    "    LOWER(REGEXP_REPLACE(title, '[^a-zA-Z0-9 $.-]', ' ')) AS title,\n",
    "    source\n",
    "FROM\n",
    "  ({sub_query})\n",
    "WHERE (source = 'github' OR source = 'nytimes' OR source = 'techcrunch')\n",
    "\"\"\".format(sub_query=sub_query)\n",
    "\n",
    "print(query)"
   ]
  },
  {
   "cell_type": "markdown",
   "metadata": {},
   "source": [
    "For ML training, we usually need to split our dataset into training and evaluation datasets (and perhaps an independent test dataset if we are going to do model or feature selection based on the evaluation dataset). AutoML however figures out on its own how to create these splits, so we won't need to do that here. \n",
    "\n"
   ]
  },
  {
   "cell_type": "code",
   "execution_count": 21,
   "metadata": {
    "tags": []
   },
   "outputs": [
    {
     "data": {
      "text/html": [
       "<div>\n",
       "<style scoped>\n",
       "    .dataframe tbody tr th:only-of-type {\n",
       "        vertical-align: middle;\n",
       "    }\n",
       "\n",
       "    .dataframe tbody tr th {\n",
       "        vertical-align: top;\n",
       "    }\n",
       "\n",
       "    .dataframe thead th {\n",
       "        text-align: right;\n",
       "    }\n",
       "</style>\n",
       "<table border=\"1\" class=\"dataframe\">\n",
       "  <thead>\n",
       "    <tr style=\"text-align: right;\">\n",
       "      <th></th>\n",
       "      <th>title</th>\n",
       "      <th>source</th>\n",
       "    </tr>\n",
       "  </thead>\n",
       "  <tbody>\n",
       "    <tr>\n",
       "      <th>0</th>\n",
       "      <td>show hn  make a header that reacts well to scr...</td>\n",
       "      <td>github</td>\n",
       "    </tr>\n",
       "    <tr>\n",
       "      <th>1</th>\n",
       "      <td>show hn  js object mapper generator from db sc...</td>\n",
       "      <td>github</td>\n",
       "    </tr>\n",
       "    <tr>\n",
       "      <th>2</th>\n",
       "      <td>show hn  webrtc nuts and bolts  a holistic way...</td>\n",
       "      <td>github</td>\n",
       "    </tr>\n",
       "    <tr>\n",
       "      <th>3</th>\n",
       "      <td>create a static website and api on aws with on...</td>\n",
       "      <td>github</td>\n",
       "    </tr>\n",
       "    <tr>\n",
       "      <th>4</th>\n",
       "      <td>top to bottom setup and update scripts for an ...</td>\n",
       "      <td>github</td>\n",
       "    </tr>\n",
       "  </tbody>\n",
       "</table>\n",
       "</div>"
      ],
      "text/plain": [
       "                                               title  source\n",
       "0  show hn  make a header that reacts well to scr...  github\n",
       "1  show hn  js object mapper generator from db sc...  github\n",
       "2  show hn  webrtc nuts and bolts  a holistic way...  github\n",
       "3  create a static website and api on aws with on...  github\n",
       "4  top to bottom setup and update scripts for an ...  github"
      ]
     },
     "execution_count": 21,
     "metadata": {},
     "output_type": "execute_result"
    }
   ],
   "source": [
    "bq = bigquery.Client(project=PROJECT)\n",
    "title_dataset = bq.query(query).to_dataframe()\n",
    "title_dataset.head()"
   ]
  },
  {
   "cell_type": "markdown",
   "metadata": {},
   "source": [
    "AutoML for text classification requires that\n",
    "* the dataset be in csv form with \n",
    "* the first column being the texts to classify or a GCS path to the text \n",
    "* the last colum to be the text labels\n",
    "\n",
    "The dataset we pulled from BiqQuery satisfies these requirements."
   ]
  },
  {
   "cell_type": "code",
   "execution_count": 22,
   "metadata": {
    "tags": []
   },
   "outputs": [
    {
     "name": "stdout",
     "output_type": "stream",
     "text": [
      "The full dataset contains 236186 titles\n"
     ]
    }
   ],
   "source": [
    "print(\"The full dataset contains {n} titles\".format(n=len(title_dataset)))"
   ]
  },
  {
   "cell_type": "markdown",
   "metadata": {},
   "source": [
    "Let's make sure we have roughly the same number of labels for each of our three labels:"
   ]
  },
  {
   "cell_type": "code",
   "execution_count": 23,
   "metadata": {
    "tags": []
   },
   "outputs": [
    {
     "data": {
      "text/plain": [
       "github        123624\n",
       "nytimes        64827\n",
       "techcrunch     47735\n",
       "Name: source, dtype: int64"
      ]
     },
     "execution_count": 23,
     "metadata": {},
     "output_type": "execute_result"
    }
   ],
   "source": [
    "title_dataset.source.value_counts()"
   ]
  },
  {
   "cell_type": "markdown",
   "metadata": {},
   "source": [
    "Finally we will save our data, which is currently in-memory, to disk.\n",
    "\n",
    "We will create a csv file containing the full dataset and another containing only 1000 articles for development.\n",
    "\n",
    "**Note:** It may take a long time to train AutoML on the full dataset, so we recommend to use the sample dataset for the purpose of learning the tool. \n"
   ]
  },
  {
   "cell_type": "code",
   "execution_count": 24,
   "metadata": {
    "tags": []
   },
   "outputs": [],
   "source": [
    "DATADIR = './data/'\n",
    "\n",
    "if not os.path.exists(DATADIR):\n",
    "    os.makedirs(DATADIR)"
   ]
  },
  {
   "cell_type": "code",
   "execution_count": 25,
   "metadata": {
    "tags": []
   },
   "outputs": [],
   "source": [
    "FULL_DATASET_NAME = 'titles_full.csv'\n",
    "FULL_DATASET_PATH = os.path.join(DATADIR, FULL_DATASET_NAME)\n",
    "\n",
    "# Let's shuffle the data before writing it to disk.\n",
    "title_dataset = title_dataset.sample(n=len(title_dataset))\n",
    "\n",
    "title_dataset.to_csv(\n",
    "    FULL_DATASET_PATH, header=False, index=False, encoding='utf-8')"
   ]
  },
  {
   "cell_type": "markdown",
   "metadata": {},
   "source": [
    "Now let's sample 1000 articles from the full dataset and make sure we have enough examples for each label in our sample dataset (see [here](https://cloud.google.com/natural-language/automl/docs/beginners-guide) for further details on how to prepare data for AutoML)."
   ]
  },
  {
   "cell_type": "markdown",
   "metadata": {},
   "source": [
    "### Lab Task 1c:\n",
    "Use `.sample` to create a sample dataset of 1,000 articles from the full dataset. Use `.value_counts` to see how many articles are contained in each of the three source categories?"
   ]
  },
  {
   "cell_type": "code",
   "execution_count": 27,
   "metadata": {
    "tags": []
   },
   "outputs": [
    {
     "data": {
      "text/plain": [
       "github        527\n",
       "nytimes       272\n",
       "techcrunch    201\n",
       "Name: source, dtype: int64"
      ]
     },
     "execution_count": 27,
     "metadata": {},
     "output_type": "execute_result"
    }
   ],
   "source": [
    "sample_title_dataset = title_dataset.sample(1000) # TODO: Your code goes here.\n",
    "sample_title_dataset['source'].value_counts()\n",
    "# TODO: Your code goes here."
   ]
  },
  {
   "cell_type": "markdown",
   "metadata": {},
   "source": [
    "Let's write the sample datatset to disk."
   ]
  },
  {
   "cell_type": "code",
   "execution_count": 28,
   "metadata": {
    "tags": []
   },
   "outputs": [],
   "source": [
    "SAMPLE_DATASET_NAME = 'titles_sample.csv'\n",
    "SAMPLE_DATASET_PATH = os.path.join(DATADIR, SAMPLE_DATASET_NAME)\n",
    "\n",
    "sample_title_dataset.to_csv(\n",
    "    SAMPLE_DATASET_PATH, header=False, index=False, encoding='utf-8')"
   ]
  },
  {
   "cell_type": "code",
   "execution_count": 29,
   "metadata": {
    "tags": []
   },
   "outputs": [
    {
     "data": {
      "text/html": [
       "<div>\n",
       "<style scoped>\n",
       "    .dataframe tbody tr th:only-of-type {\n",
       "        vertical-align: middle;\n",
       "    }\n",
       "\n",
       "    .dataframe tbody tr th {\n",
       "        vertical-align: top;\n",
       "    }\n",
       "\n",
       "    .dataframe thead th {\n",
       "        text-align: right;\n",
       "    }\n",
       "</style>\n",
       "<table border=\"1\" class=\"dataframe\">\n",
       "  <thead>\n",
       "    <tr style=\"text-align: right;\">\n",
       "      <th></th>\n",
       "      <th>title</th>\n",
       "      <th>source</th>\n",
       "    </tr>\n",
       "  </thead>\n",
       "  <tbody>\n",
       "    <tr>\n",
       "      <th>216645</th>\n",
       "      <td>bitcoin is not for goverment. bitcoin is digit...</td>\n",
       "      <td>techcrunch</td>\n",
       "    </tr>\n",
       "    <tr>\n",
       "      <th>26430</th>\n",
       "      <td>show hn  instant streaming graphql apis with b...</td>\n",
       "      <td>github</td>\n",
       "    </tr>\n",
       "    <tr>\n",
       "      <th>76605</th>\n",
       "      <td>show hn  hoodie   type safe  annotation based ...</td>\n",
       "      <td>github</td>\n",
       "    </tr>\n",
       "    <tr>\n",
       "      <th>159705</th>\n",
       "      <td>next version of web design may increase privac...</td>\n",
       "      <td>nytimes</td>\n",
       "    </tr>\n",
       "    <tr>\n",
       "      <th>170189</th>\n",
       "      <td>dangerously low on water  cape town now faces ...</td>\n",
       "      <td>nytimes</td>\n",
       "    </tr>\n",
       "  </tbody>\n",
       "</table>\n",
       "</div>"
      ],
      "text/plain": [
       "                                                    title      source\n",
       "216645  bitcoin is not for goverment. bitcoin is digit...  techcrunch\n",
       "26430   show hn  instant streaming graphql apis with b...      github\n",
       "76605   show hn  hoodie   type safe  annotation based ...      github\n",
       "159705  next version of web design may increase privac...     nytimes\n",
       "170189  dangerously low on water  cape town now faces ...     nytimes"
      ]
     },
     "execution_count": 29,
     "metadata": {},
     "output_type": "execute_result"
    }
   ],
   "source": [
    "sample_title_dataset.head()"
   ]
  },
  {
   "cell_type": "code",
   "execution_count": 30,
   "metadata": {
    "tags": []
   },
   "outputs": [
    {
     "name": "stdout",
     "output_type": "stream",
     "text": [
      "2.6.5\n"
     ]
    }
   ],
   "source": [
    "import os\n",
    "import shutil\n",
    "\n",
    "import pandas as pd\n",
    "import tensorflow as tf\n",
    "from tensorflow.keras.callbacks import TensorBoard, EarlyStopping\n",
    "from tensorflow.keras.layers import (\n",
    "    Embedding,\n",
    "    Flatten,\n",
    "    GRU,\n",
    "    Conv1D,\n",
    "    Lambda,\n",
    "    Dense,\n",
    ")\n",
    "from tensorflow.keras.models import Sequential\n",
    "from tensorflow.keras.preprocessing.sequence import pad_sequences\n",
    "from tensorflow.keras.preprocessing.text import Tokenizer\n",
    "from tensorflow.keras.utils import to_categorical\n",
    "\n",
    "print(tf.__version__)"
   ]
  },
  {
   "cell_type": "code",
   "execution_count": 31,
   "metadata": {
    "tags": []
   },
   "outputs": [],
   "source": [
    "%matplotlib inline"
   ]
  },
  {
   "cell_type": "markdown",
   "metadata": {},
   "source": [
    "Let's start by specifying where the information about the trained models will be saved as well as where our dataset is located:"
   ]
  },
  {
   "cell_type": "code",
   "execution_count": 32,
   "metadata": {
    "tags": []
   },
   "outputs": [],
   "source": [
    "LOGDIR = \"./text_models\"\n",
    "DATA_DIR = \"./data\""
   ]
  },
  {
   "cell_type": "markdown",
   "metadata": {},
   "source": [
    "## Loading the dataset"
   ]
  },
  {
   "cell_type": "markdown",
   "metadata": {},
   "source": [
    "Our dataset consists of titles of articles along with the label indicating from which source these articles have been taken from (GitHub, Tech-Crunch, or the New-York Times)."
   ]
  },
  {
   "cell_type": "code",
   "execution_count": 33,
   "metadata": {
    "tags": []
   },
   "outputs": [
    {
     "data": {
      "text/html": [
       "<div>\n",
       "<style scoped>\n",
       "    .dataframe tbody tr th:only-of-type {\n",
       "        vertical-align: middle;\n",
       "    }\n",
       "\n",
       "    .dataframe tbody tr th {\n",
       "        vertical-align: top;\n",
       "    }\n",
       "\n",
       "    .dataframe thead th {\n",
       "        text-align: right;\n",
       "    }\n",
       "</style>\n",
       "<table border=\"1\" class=\"dataframe\">\n",
       "  <thead>\n",
       "    <tr style=\"text-align: right;\">\n",
       "      <th></th>\n",
       "      <th>title</th>\n",
       "      <th>source</th>\n",
       "    </tr>\n",
       "  </thead>\n",
       "  <tbody>\n",
       "    <tr>\n",
       "      <th>0</th>\n",
       "      <td>google isn t safe from yahoo s fate</td>\n",
       "      <td>techcrunch</td>\n",
       "    </tr>\n",
       "    <tr>\n",
       "      <th>1</th>\n",
       "      <td>future of less hat</td>\n",
       "      <td>github</td>\n",
       "    </tr>\n",
       "    <tr>\n",
       "      <th>2</th>\n",
       "      <td>a digitizing david takes on photo-scanning gol...</td>\n",
       "      <td>techcrunch</td>\n",
       "    </tr>\n",
       "    <tr>\n",
       "      <th>3</th>\n",
       "      <td>nimdbx  fast persistent key-value store for ni...</td>\n",
       "      <td>github</td>\n",
       "    </tr>\n",
       "    <tr>\n",
       "      <th>4</th>\n",
       "      <td>toiling on turkey s hazelnut farms with little...</td>\n",
       "      <td>nytimes</td>\n",
       "    </tr>\n",
       "  </tbody>\n",
       "</table>\n",
       "</div>"
      ],
      "text/plain": [
       "                                               title      source\n",
       "0                google isn t safe from yahoo s fate  techcrunch\n",
       "1                                 future of less hat      github\n",
       "2  a digitizing david takes on photo-scanning gol...  techcrunch\n",
       "3  nimdbx  fast persistent key-value store for ni...      github\n",
       "4  toiling on turkey s hazelnut farms with little...     nytimes"
      ]
     },
     "execution_count": 33,
     "metadata": {},
     "output_type": "execute_result"
    }
   ],
   "source": [
    "DATASET_NAME = \"titles_full.csv\"\n",
    "TITLE_SAMPLE_PATH = os.path.join(DATA_DIR, DATASET_NAME)\n",
    "COLUMNS = ['title', 'source']\n",
    "\n",
    "titles_df = pd.read_csv(TITLE_SAMPLE_PATH, header=None, names=COLUMNS)\n",
    "titles_df.head()"
   ]
  },
  {
   "cell_type": "markdown",
   "metadata": {},
   "source": [
    "## Integerize the texts"
   ]
  },
  {
   "cell_type": "markdown",
   "metadata": {},
   "source": [
    "The first thing we need to do is to find how many words we have in our dataset (`VOCAB_SIZE`), how many titles we have (`DATASET_SIZE`), and what the maximum length of the titles we have (`MAX_LEN`) is. Keras offers the `Tokenizer` class in its `keras.preprocessing.text` module to help us with that:"
   ]
  },
  {
   "cell_type": "code",
   "execution_count": 34,
   "metadata": {
    "tags": []
   },
   "outputs": [],
   "source": [
    "tokenizer = Tokenizer()\n",
    "tokenizer.fit_on_texts(titles_df.title)"
   ]
  },
  {
   "cell_type": "code",
   "execution_count": 35,
   "metadata": {
    "tags": []
   },
   "outputs": [
    {
     "data": {
      "text/plain": [
       "[[18, 741, 48, 637, 16, 264, 10, 6426],\n",
       " [219, 7, 387, 3206],\n",
       " [1, 11963, 1543, 356, 12, 801, 2824, 9903]]"
      ]
     },
     "execution_count": 35,
     "metadata": {},
     "output_type": "execute_result"
    }
   ],
   "source": [
    "integerized_titles = tokenizer.texts_to_sequences(titles_df.title)\n",
    "integerized_titles[:3]"
   ]
  },
  {
   "cell_type": "code",
   "execution_count": 36,
   "metadata": {
    "tags": []
   },
   "outputs": [
    {
     "data": {
      "text/plain": [
       "80476"
      ]
     },
     "execution_count": 36,
     "metadata": {},
     "output_type": "execute_result"
    }
   ],
   "source": [
    "VOCAB_SIZE = len(tokenizer.index_word)\n",
    "VOCAB_SIZE"
   ]
  },
  {
   "cell_type": "code",
   "execution_count": 37,
   "metadata": {
    "tags": []
   },
   "outputs": [
    {
     "data": {
      "text/plain": [
       "236186"
      ]
     },
     "execution_count": 37,
     "metadata": {},
     "output_type": "execute_result"
    }
   ],
   "source": [
    "DATASET_SIZE = tokenizer.document_count\n",
    "DATASET_SIZE"
   ]
  },
  {
   "cell_type": "code",
   "execution_count": 38,
   "metadata": {
    "tags": []
   },
   "outputs": [
    {
     "data": {
      "text/plain": [
       "25"
      ]
     },
     "execution_count": 38,
     "metadata": {},
     "output_type": "execute_result"
    }
   ],
   "source": [
    "MAX_LEN = max(len(sequence) for sequence in integerized_titles)\n",
    "MAX_LEN"
   ]
  },
  {
   "cell_type": "markdown",
   "metadata": {},
   "source": [
    "Let's now implement a function `create_sequence` that will \n",
    "* take as input our titles as well as the maximum sentence length and \n",
    "* returns a list of the integers corresponding to our tokens padded to the sentence maximum length\n",
    "\n",
    "Keras has the helper functions `pad_sequence` for that on the top of the tokenizer methods."
   ]
  },
  {
   "cell_type": "markdown",
   "metadata": {},
   "source": [
    "### Lab Task #2:\n",
    "Complete the code in the `create_sequences` function below to\n",
    "* create text sequences from `texts` using the tokenizer we created above \n",
    "* pad the end of those text sequences to have length `max_len`"
   ]
  },
  {
   "cell_type": "code",
   "execution_count": 41,
   "metadata": {
    "tags": []
   },
   "outputs": [],
   "source": [
    "# TODO 1\n",
    "def create_sequences(texts, max_len=MAX_LEN):\n",
    "    sequences = tokenizer.texts_to_sequences(texts) # TODO: Your code goes here.\n",
    "    padded_sequences = pad_sequences(sequences,maxlen=MAX_LEN,padding='post') # TODO: Your code goes here.\n",
    "    return padded_sequences"
   ]
  },
  {
   "cell_type": "code",
   "execution_count": 42,
   "metadata": {
    "tags": []
   },
   "outputs": [
    {
     "data": {
      "text/plain": [
       "array([[   18,   741,    48,   637,    16,   264,    10,  6426,     0,\n",
       "            0,     0,     0,     0,     0,     0,     0,     0,     0,\n",
       "            0,     0,     0,     0,     0,     0,     0],\n",
       "       [  219,     7,   387,  3206,     0,     0,     0,     0,     0,\n",
       "            0,     0,     0,     0,     0,     0,     0,     0,     0,\n",
       "            0,     0,     0,     0,     0,     0,     0],\n",
       "       [    1, 11963,  1543,   356,    12,   801,  2824,  9903,     0,\n",
       "            0,     0,     0,     0,     0,     0,     0,     0,     0,\n",
       "            0,     0,     0,     0,     0,     0,     0]], dtype=int32)"
      ]
     },
     "execution_count": 42,
     "metadata": {},
     "output_type": "execute_result"
    }
   ],
   "source": [
    "sequences = create_sequences(titles_df.title[:3])\n",
    "sequences"
   ]
  },
  {
   "cell_type": "code",
   "execution_count": 43,
   "metadata": {
    "tags": []
   },
   "outputs": [
    {
     "data": {
      "text/plain": [
       "0    techcrunch\n",
       "1        github\n",
       "2    techcrunch\n",
       "3        github\n",
       "Name: source, dtype: object"
      ]
     },
     "execution_count": 43,
     "metadata": {},
     "output_type": "execute_result"
    }
   ],
   "source": [
    "titles_df.source[:4]"
   ]
  },
  {
   "cell_type": "markdown",
   "metadata": {},
   "source": [
    "We now need to write a function that \n",
    "* takes a title source and\n",
    "* returns the corresponding one-hot encoded vector\n",
    "\n",
    "Keras `to_categorical` is handy for that."
   ]
  },
  {
   "cell_type": "code",
   "execution_count": 44,
   "metadata": {
    "tags": []
   },
   "outputs": [],
   "source": [
    "CLASSES = {\n",
    "    'github': 0,\n",
    "    'nytimes': 1,\n",
    "    'techcrunch': 2\n",
    "}\n",
    "N_CLASSES = len(CLASSES)"
   ]
  },
  {
   "cell_type": "markdown",
   "metadata": {},
   "source": [
    "### Lab Task #3:\n",
    "Complete the code in the `encode_labels` function below to\n",
    "* create a list that maps each `source` in `sources` to its corresponding numeric value using the dictionary `CLASSES` above\n",
    "* use the Keras function to one-hot encode the variable classes"
   ]
  },
  {
   "cell_type": "code",
   "execution_count": 45,
   "metadata": {
    "tags": []
   },
   "outputs": [],
   "source": [
    "# TODO 2\n",
    "def encode_labels(sources):\n",
    "    classes = [CLASSES[source] for source in sources]# TODO: Your code goes here.\n",
    "    one_hots = to_categorical(classes) # TODO: Your code goes here.\n",
    "    return one_hots"
   ]
  },
  {
   "cell_type": "code",
   "execution_count": 46,
   "metadata": {
    "tags": []
   },
   "outputs": [
    {
     "data": {
      "text/plain": [
       "array([[0., 0., 1.],\n",
       "       [1., 0., 0.],\n",
       "       [0., 0., 1.],\n",
       "       [1., 0., 0.]], dtype=float32)"
      ]
     },
     "execution_count": 46,
     "metadata": {},
     "output_type": "execute_result"
    }
   ],
   "source": [
    "encode_labels(titles_df.source[:4])"
   ]
  },
  {
   "cell_type": "markdown",
   "metadata": {},
   "source": [
    "## Preparing the train/test splits"
   ]
  },
  {
   "cell_type": "markdown",
   "metadata": {},
   "source": [
    "Let's split our data into train and test splits:"
   ]
  },
  {
   "cell_type": "code",
   "execution_count": 47,
   "metadata": {
    "tags": []
   },
   "outputs": [],
   "source": [
    "N_TRAIN = int(DATASET_SIZE * 0.80)\n",
    "\n",
    "titles_train, sources_train = (\n",
    "    titles_df.title[:N_TRAIN], titles_df.source[:N_TRAIN])\n",
    "\n",
    "titles_valid, sources_valid = (\n",
    "    titles_df.title[N_TRAIN:], titles_df.source[N_TRAIN:])"
   ]
  },
  {
   "cell_type": "markdown",
   "metadata": {},
   "source": [
    "To be on the safe side, we verify that the train and test splits\n",
    "have roughly the same number of examples per classes.\n",
    "\n",
    "Since it is the case, accuracy will be a good metric to use to measure\n",
    "the performance of our models.\n"
   ]
  },
  {
   "cell_type": "code",
   "execution_count": 48,
   "metadata": {
    "tags": []
   },
   "outputs": [
    {
     "data": {
      "text/plain": [
       "github        98832\n",
       "nytimes       51862\n",
       "techcrunch    38254\n",
       "Name: source, dtype: int64"
      ]
     },
     "execution_count": 48,
     "metadata": {},
     "output_type": "execute_result"
    }
   ],
   "source": [
    "sources_train.value_counts()"
   ]
  },
  {
   "cell_type": "code",
   "execution_count": 49,
   "metadata": {
    "tags": []
   },
   "outputs": [
    {
     "data": {
      "text/plain": [
       "github        24792\n",
       "nytimes       12965\n",
       "techcrunch     9481\n",
       "Name: source, dtype: int64"
      ]
     },
     "execution_count": 49,
     "metadata": {},
     "output_type": "execute_result"
    }
   ],
   "source": [
    "sources_valid.value_counts()"
   ]
  },
  {
   "cell_type": "markdown",
   "metadata": {},
   "source": [
    "Using `create_sequence` and `encode_labels`, we can now prepare the\n",
    "training and validation data to feed our models.\n",
    "\n",
    "The features will be\n",
    "padded list of integers and the labels will be one-hot-encoded 3D vectors."
   ]
  },
  {
   "cell_type": "code",
   "execution_count": 50,
   "metadata": {
    "tags": []
   },
   "outputs": [],
   "source": [
    "X_train, Y_train = create_sequences(titles_train), encode_labels(sources_train)\n",
    "X_valid, Y_valid = create_sequences(titles_valid), encode_labels(sources_valid)"
   ]
  },
  {
   "cell_type": "code",
   "execution_count": 51,
   "metadata": {
    "tags": []
   },
   "outputs": [
    {
     "data": {
      "text/plain": [
       "array([[   18,   741,    48,   637,    16,   264,    10,  6426,     0,\n",
       "            0,     0,     0,     0,     0,     0,     0,     0,     0,\n",
       "            0,     0,     0,     0,     0,     0,     0],\n",
       "       [  219,     7,   387,  3206,     0,     0,     0,     0,     0,\n",
       "            0,     0,     0,     0,     0,     0,     0,     0,     0,\n",
       "            0,     0,     0,     0,     0,     0,     0],\n",
       "       [    1, 11963,  1543,   356,    12,   801,  2824,  9903,     0,\n",
       "            0,     0,     0,     0,     0,     0,     0,     0,     0,\n",
       "            0,     0,     0,     0,     0,     0,     0]], dtype=int32)"
      ]
     },
     "execution_count": 51,
     "metadata": {},
     "output_type": "execute_result"
    }
   ],
   "source": [
    "X_train[:3]"
   ]
  },
  {
   "cell_type": "code",
   "execution_count": 52,
   "metadata": {
    "tags": []
   },
   "outputs": [
    {
     "data": {
      "text/plain": [
       "array([[0., 0., 1.],\n",
       "       [1., 0., 0.],\n",
       "       [0., 0., 1.]], dtype=float32)"
      ]
     },
     "execution_count": 52,
     "metadata": {},
     "output_type": "execute_result"
    }
   ],
   "source": [
    "Y_train[:3]"
   ]
  },
  {
   "cell_type": "markdown",
   "metadata": {},
   "source": [
    "## Building a DNN model"
   ]
  },
  {
   "cell_type": "markdown",
   "metadata": {},
   "source": [
    "The build_dnn_model function below returns a compiled Keras model that implements a simple embedding layer transforming the word integers into dense vectors, followed by a Dense softmax layer that returns the probabilities for each class.\n",
    "\n",
    "\n",
    "Note that we need to put a custom Keras Lambda layer in between the Embedding layer and the Dense softmax layer to do an average of the word vectors returned by the embedding layer. This is the average that's fed to the dense softmax layer. By doing so, we create a model that is simple but that loses information about the word order, creating a model that sees sentences as \"bag-of-words\"."
   ]
  },
  {
   "cell_type": "markdown",
   "metadata": {},
   "source": [
    "### Lab Tasks #4, #5, and #6:\n",
    "Create a Keras Sequential model with three layers:\n",
    "* The first layer should be an embedding layer with output dimension equal to `embed_dim`.\n",
    "* The second layer should use a Lambda layer to create a bag-of-words representation of the sentences by computing the mean.\n",
    "* The last layer should use a Dense layer to predict which class the example belongs to."
   ]
  },
  {
   "cell_type": "code",
   "execution_count": 54,
   "metadata": {
    "tags": []
   },
   "outputs": [],
   "source": [
    "# TODOs 4-6\n",
    "def build_dnn_model(embed_dim):\n",
    "\n",
    "    model = Sequential([\n",
    "        Embedding(input_dim=VOCAB_SIZE+1,output_dim=embed_dim,input_shape=[MAX_LEN]), # TODO: Your code goes here.\n",
    "        Lambda(lambda x: tf.reduce_mean(x, axis=1)), # TODO: Your code goes here.\n",
    "        Dense(units=N_CLASSES, activation='softmax') # TODO: Your code goes here.\n",
    "    ])\n",
    "\n",
    "    model.compile(\n",
    "        optimizer='adam',\n",
    "        loss='categorical_crossentropy',\n",
    "        metrics=['accuracy']\n",
    "    )\n",
    "    return model\n",
    "\n",
    "\n",
    "# Embedding,\n",
    "#     Flatten,\n",
    "#     GRU,\n",
    "#     Conv1D,\n",
    "#     Lambda,\n",
    "#     Dense,"
   ]
  },
  {
   "cell_type": "markdown",
   "metadata": {},
   "source": [
    "Below we train the model on 100 epochs but adding an `EarlyStopping` callback that will stop the training as soon as the validation loss has not improved after a number of steps specified by `PATIENCE` . Note that we also give the `model.fit` method a Tensorboard callback so that we can later compare all the models using TensorBoard."
   ]
  },
  {
   "cell_type": "code",
   "execution_count": 56,
   "metadata": {
    "tags": []
   },
   "outputs": [
    {
     "name": "stderr",
     "output_type": "stream",
     "text": [
      "2024-02-09 15:51:56.557188: I tensorflow/core/profiler/lib/profiler_session.cc:131] Profiler session initializing.\n",
      "2024-02-09 15:51:56.557423: I tensorflow/core/profiler/lib/profiler_session.cc:146] Profiler session started.\n",
      "2024-02-09 15:51:56.557831: I tensorflow/core/profiler/lib/profiler_session.cc:164] Profiler session tear down.\n"
     ]
    },
    {
     "name": "stdout",
     "output_type": "stream",
     "text": [
      "Epoch 1/100\n",
      " 15/630 [..............................] - ETA: 8s - loss: 1.0877 - accuracy: 0.4784 "
     ]
    },
    {
     "name": "stderr",
     "output_type": "stream",
     "text": [
      "2024-02-09 15:51:57.039823: I tensorflow/core/profiler/lib/profiler_session.cc:131] Profiler session initializing.\n",
      "2024-02-09 15:51:57.039885: I tensorflow/core/profiler/lib/profiler_session.cc:146] Profiler session started.\n",
      "2024-02-09 15:51:57.082248: I tensorflow/core/profiler/lib/profiler_session.cc:66] Profiler session collecting data.\n",
      "2024-02-09 15:51:57.083440: I tensorflow/core/profiler/lib/profiler_session.cc:164] Profiler session tear down.\n",
      "2024-02-09 15:51:57.085302: I tensorflow/core/profiler/rpc/client/save_profile.cc:136] Creating directory: ./text_models/dnn/train/plugins/profile/2024_02_09_15_51_57\n",
      "\n",
      "2024-02-09 15:51:57.086369: I tensorflow/core/profiler/rpc/client/save_profile.cc:142] Dumped gzipped tool data for trace.json.gz to ./text_models/dnn/train/plugins/profile/2024_02_09_15_51_57/instance-20240209-203504.trace.json.gz\n",
      "2024-02-09 15:51:57.087941: I tensorflow/core/profiler/rpc/client/save_profile.cc:136] Creating directory: ./text_models/dnn/train/plugins/profile/2024_02_09_15_51_57\n",
      "\n",
      "2024-02-09 15:51:57.088103: I tensorflow/core/profiler/rpc/client/save_profile.cc:142] Dumped gzipped tool data for memory_profile.json.gz to ./text_models/dnn/train/plugins/profile/2024_02_09_15_51_57/instance-20240209-203504.memory_profile.json.gz\n",
      "2024-02-09 15:51:57.088640: I tensorflow/core/profiler/rpc/client/capture_profile.cc:251] Creating directory: ./text_models/dnn/train/plugins/profile/2024_02_09_15_51_57\n",
      "Dumped tool data for xplane.pb to ./text_models/dnn/train/plugins/profile/2024_02_09_15_51_57/instance-20240209-203504.xplane.pb\n",
      "Dumped tool data for overview_page.pb to ./text_models/dnn/train/plugins/profile/2024_02_09_15_51_57/instance-20240209-203504.overview_page.pb\n",
      "Dumped tool data for input_pipeline.pb to ./text_models/dnn/train/plugins/profile/2024_02_09_15_51_57/instance-20240209-203504.input_pipeline.pb\n",
      "Dumped tool data for tensorflow_stats.pb to ./text_models/dnn/train/plugins/profile/2024_02_09_15_51_57/instance-20240209-203504.tensorflow_stats.pb\n",
      "Dumped tool data for kernel_stats.pb to ./text_models/dnn/train/plugins/profile/2024_02_09_15_51_57/instance-20240209-203504.kernel_stats.pb\n",
      "\n"
     ]
    },
    {
     "name": "stdout",
     "output_type": "stream",
     "text": [
      "630/630 [==============================] - 7s 11ms/step - loss: 0.8562 - accuracy: 0.5905 - val_loss: 0.6552 - val_accuracy: 0.7132\n",
      "Epoch 2/100\n",
      "630/630 [==============================] - 7s 11ms/step - loss: 0.5524 - accuracy: 0.7753 - val_loss: 0.4766 - val_accuracy: 0.8311\n",
      "Epoch 3/100\n",
      "630/630 [==============================] - 7s 10ms/step - loss: 0.4197 - accuracy: 0.8522 - val_loss: 0.3877 - val_accuracy: 0.8620\n",
      "Epoch 4/100\n",
      "630/630 [==============================] - 6s 10ms/step - loss: 0.3482 - accuracy: 0.8752 - val_loss: 0.3418 - val_accuracy: 0.8731\n",
      "Epoch 5/100\n",
      "630/630 [==============================] - 6s 10ms/step - loss: 0.3068 - accuracy: 0.8883 - val_loss: 0.3151 - val_accuracy: 0.8808\n",
      "Epoch 6/100\n",
      "630/630 [==============================] - 6s 10ms/step - loss: 0.2791 - accuracy: 0.8978 - val_loss: 0.2977 - val_accuracy: 0.8867\n",
      "Epoch 7/100\n",
      "630/630 [==============================] - 6s 10ms/step - loss: 0.2584 - accuracy: 0.9045 - val_loss: 0.2858 - val_accuracy: 0.8914\n",
      "Epoch 8/100\n",
      "630/630 [==============================] - 6s 10ms/step - loss: 0.2419 - accuracy: 0.9106 - val_loss: 0.2770 - val_accuracy: 0.8937\n",
      "Epoch 9/100\n",
      "630/630 [==============================] - 6s 10ms/step - loss: 0.2281 - accuracy: 0.9158 - val_loss: 0.2703 - val_accuracy: 0.8955\n",
      "Epoch 10/100\n",
      "630/630 [==============================] - 6s 10ms/step - loss: 0.2163 - accuracy: 0.9202 - val_loss: 0.2655 - val_accuracy: 0.8973\n",
      "Epoch 11/100\n",
      "630/630 [==============================] - 7s 11ms/step - loss: 0.2058 - accuracy: 0.9240 - val_loss: 0.2620 - val_accuracy: 0.8993\n",
      "Epoch 12/100\n",
      "630/630 [==============================] - 6s 10ms/step - loss: 0.1966 - accuracy: 0.9274 - val_loss: 0.2597 - val_accuracy: 0.9006\n",
      "Epoch 13/100\n",
      "630/630 [==============================] - 6s 10ms/step - loss: 0.1883 - accuracy: 0.9307 - val_loss: 0.2584 - val_accuracy: 0.9012\n",
      "Epoch 14/100\n",
      "630/630 [==============================] - 6s 10ms/step - loss: 0.1808 - accuracy: 0.9333 - val_loss: 0.2577 - val_accuracy: 0.9018\n",
      "Epoch 15/100\n",
      "630/630 [==============================] - 6s 10ms/step - loss: 0.1739 - accuracy: 0.9359 - val_loss: 0.2574 - val_accuracy: 0.9018\n",
      "Epoch 16/100\n",
      "630/630 [==============================] - 6s 10ms/step - loss: 0.1676 - accuracy: 0.9383 - val_loss: 0.2579 - val_accuracy: 0.9026\n",
      "Epoch 17/100\n",
      "630/630 [==============================] - 6s 10ms/step - loss: 0.1619 - accuracy: 0.9406 - val_loss: 0.2588 - val_accuracy: 0.9022\n",
      "Model: \"sequential_1\"\n",
      "_________________________________________________________________\n",
      "Layer (type)                 Output Shape              Param #   \n",
      "=================================================================\n",
      "embedding_1 (Embedding)      (None, 25, 10)            804770    \n",
      "_________________________________________________________________\n",
      "lambda_1 (Lambda)            (None, 10)                0         \n",
      "_________________________________________________________________\n",
      "dense_1 (Dense)              (None, 3)                 33        \n",
      "=================================================================\n",
      "Total params: 804,803\n",
      "Trainable params: 804,803\n",
      "Non-trainable params: 0\n",
      "_________________________________________________________________\n",
      "CPU times: user 3min 7s, sys: 51.7 s, total: 3min 58s\n",
      "Wall time: 1min 49s\n"
     ]
    },
    {
     "data": {
      "image/png": "[encoded data removed]",
      "text/plain": [
       "<Figure size 640x480 with 1 Axes>"
      ]
     },
     "metadata": {},
     "output_type": "display_data"
    },
    {
     "data": {
      "image/png": "[encoded data removed]",
      "text/plain": [
       "<Figure size 640x480 with 1 Axes>"
      ]
     },
     "metadata": {},
     "output_type": "display_data"
    }
   ],
   "source": [
    "%%time\n",
    "\n",
    "tf.random.set_seed(33)\n",
    "\n",
    "MODEL_DIR = os.path.join(LOGDIR, 'dnn')\n",
    "shutil.rmtree(MODEL_DIR, ignore_errors=True)\n",
    "\n",
    "BATCH_SIZE = 300\n",
    "EPOCHS = 100\n",
    "EMBED_DIM = 10\n",
    "PATIENCE = 2\n",
    "\n",
    "dnn_model = build_dnn_model(embed_dim=EMBED_DIM)\n",
    "\n",
    "dnn_history = dnn_model.fit(\n",
    "    X_train, Y_train,\n",
    "    epochs=EPOCHS,\n",
    "    batch_size=BATCH_SIZE,\n",
    "    validation_data=(X_valid, Y_valid),\n",
    "    callbacks=[EarlyStopping(patience=PATIENCE), TensorBoard(MODEL_DIR)],\n",
    ")\n",
    "\n",
    "pd.DataFrame(dnn_history.history)[['loss', 'val_loss']].plot()\n",
    "pd.DataFrame(dnn_history.history)[['accuracy', 'val_accuracy']].plot()\n",
    "\n",
    "dnn_model.summary()"
   ]
  },
  {
   "cell_type": "markdown",
   "metadata": {},
   "source": [
    "## Building a RNN model"
   ]
  },
  {
   "cell_type": "markdown",
   "metadata": {},
   "source": [
    "The `build_dnn_model` function below returns a compiled Keras model that implements a simple RNN model with a single `GRU` layer, which now takes into account the word order in the sentence.\n",
    "\n",
    "The first and last layers are the same as for the simple DNN model.\n",
    "\n",
    "Note that we set `mask_zero=True` in the `Embedding` layer so that the padded words (represented by a zero) are ignored by this and the subsequent layers.\n"
   ]
  },
  {
   "cell_type": "markdown",
   "metadata": {},
   "source": [
    "### Lab Task #4 and #6:\n",
    "Complete the code below to build an RNN model which predicts the article class. The code below is similar to the DNN you created above; however, here we do not need to use a bag-of-words representation of the sentence. Instead, you can pass the embedding layer directly to an RNN/LSTM/GRU layer."
   ]
  },
  {
   "cell_type": "code",
   "execution_count": 58,
   "metadata": {
    "tags": []
   },
   "outputs": [],
   "source": [
    "def build_rnn_model(embed_dim, units):\n",
    "\n",
    "    model = Sequential([\n",
    "        Embedding(input_dim=VOCAB_SIZE+1,output_dim=embed_dim,input_shape=[MAX_LEN], mask_zero=True), # TODO: Your code goes here.\n",
    "        GRU(units=units,activation='tanh'), # TODO: Your code goes here.\n",
    "        Dense(N_CLASSES, activation='softmax')\n",
    "    ])\n",
    "\n",
    "    model.compile(\n",
    "        optimizer='adam',\n",
    "        loss='categorical_crossentropy',\n",
    "        metrics=['accuracy']\n",
    "    )\n",
    "    return model\n",
    "\n",
    "# Embedding,\n",
    "#     Flatten,\n",
    "#     GRU,\n",
    "#     Conv1D,\n",
    "#     Lambda,\n",
    "#     Dense,"
   ]
  },
  {
   "cell_type": "markdown",
   "metadata": {},
   "source": [
    "Let's train the model with early stoping as above. \n",
    "\n",
    "Observe that we obtain the same type of accuracy as with the DNN model, but in less epochs (~3 v.s. ~20 epochs):"
   ]
  },
  {
   "cell_type": "code",
   "execution_count": 59,
   "metadata": {
    "tags": []
   },
   "outputs": [
    {
     "name": "stderr",
     "output_type": "stream",
     "text": [
      "2024-02-09 15:56:20.167851: I tensorflow/core/profiler/lib/profiler_session.cc:131] Profiler session initializing.\n",
      "2024-02-09 15:56:20.168135: I tensorflow/core/profiler/lib/profiler_session.cc:146] Profiler session started.\n",
      "2024-02-09 15:56:20.168569: I tensorflow/core/profiler/lib/profiler_session.cc:164] Profiler session tear down.\n"
     ]
    },
    {
     "name": "stdout",
     "output_type": "stream",
     "text": [
      "Epoch 1/100\n",
      "  2/630 [..............................] - ETA: 1:41 - loss: 1.0972 - accuracy: 0.3650 "
     ]
    },
    {
     "name": "stderr",
     "output_type": "stream",
     "text": [
      "2024-02-09 15:56:23.624686: I tensorflow/core/profiler/lib/profiler_session.cc:131] Profiler session initializing.\n",
      "2024-02-09 15:56:23.625203: I tensorflow/core/profiler/lib/profiler_session.cc:146] Profiler session started.\n",
      "2024-02-09 15:56:23.742762: I tensorflow/core/profiler/lib/profiler_session.cc:66] Profiler session collecting data.\n",
      "2024-02-09 15:56:23.756502: I tensorflow/core/profiler/lib/profiler_session.cc:164] Profiler session tear down.\n",
      "2024-02-09 15:56:23.788384: I tensorflow/core/profiler/rpc/client/save_profile.cc:136] Creating directory: ./text_models/rnn/train/plugins/profile/2024_02_09_15_56_23\n",
      "\n",
      "2024-02-09 15:56:23.809152: I tensorflow/core/profiler/rpc/client/save_profile.cc:142] Dumped gzipped tool data for trace.json.gz to ./text_models/rnn/train/plugins/profile/2024_02_09_15_56_23/instance-20240209-203504.trace.json.gz\n",
      "2024-02-09 15:56:23.821475: I tensorflow/core/profiler/rpc/client/save_profile.cc:136] Creating directory: ./text_models/rnn/train/plugins/profile/2024_02_09_15_56_23\n",
      "\n",
      "2024-02-09 15:56:23.821844: I tensorflow/core/profiler/rpc/client/save_profile.cc:142] Dumped gzipped tool data for memory_profile.json.gz to ./text_models/rnn/train/plugins/profile/2024_02_09_15_56_23/instance-20240209-203504.memory_profile.json.gz\n",
      "2024-02-09 15:56:23.822569: I tensorflow/core/profiler/rpc/client/capture_profile.cc:251] Creating directory: ./text_models/rnn/train/plugins/profile/2024_02_09_15_56_23\n",
      "Dumped tool data for xplane.pb to ./text_models/rnn/train/plugins/profile/2024_02_09_15_56_23/instance-20240209-203504.xplane.pb\n",
      "Dumped tool data for overview_page.pb to ./text_models/rnn/train/plugins/profile/2024_02_09_15_56_23/instance-20240209-203504.overview_page.pb\n",
      "Dumped tool data for input_pipeline.pb to ./text_models/rnn/train/plugins/profile/2024_02_09_15_56_23/instance-20240209-203504.input_pipeline.pb\n",
      "Dumped tool data for tensorflow_stats.pb to ./text_models/rnn/train/plugins/profile/2024_02_09_15_56_23/instance-20240209-203504.tensorflow_stats.pb\n",
      "Dumped tool data for kernel_stats.pb to ./text_models/rnn/train/plugins/profile/2024_02_09_15_56_23/instance-20240209-203504.kernel_stats.pb\n",
      "\n"
     ]
    },
    {
     "name": "stdout",
     "output_type": "stream",
     "text": [
      "630/630 [==============================] - 26s 36ms/step - loss: 0.4986 - accuracy: 0.7729 - val_loss: 0.3056 - val_accuracy: 0.8822\n",
      "Epoch 2/100\n",
      "630/630 [==============================] - 22s 35ms/step - loss: 0.2425 - accuracy: 0.9074 - val_loss: 0.2657 - val_accuracy: 0.8997\n",
      "Epoch 3/100\n",
      "630/630 [==============================] - 21s 34ms/step - loss: 0.1830 - accuracy: 0.9326 - val_loss: 0.2640 - val_accuracy: 0.9023\n",
      "Epoch 4/100\n",
      "630/630 [==============================] - 21s 34ms/step - loss: 0.1525 - accuracy: 0.9448 - val_loss: 0.2740 - val_accuracy: 0.9014\n",
      "Epoch 5/100\n",
      "630/630 [==============================] - 22s 35ms/step - loss: 0.1320 - accuracy: 0.9531 - val_loss: 0.2877 - val_accuracy: 0.9001\n",
      "Model: \"sequential_2\"\n",
      "_________________________________________________________________\n",
      "Layer (type)                 Output Shape              Param #   \n",
      "=================================================================\n",
      "embedding_2 (Embedding)      (None, 25, 10)            804770    \n",
      "_________________________________________________________________\n",
      "gru (GRU)                    (None, 16)                1344      \n",
      "_________________________________________________________________\n",
      "dense_2 (Dense)              (None, 3)                 51        \n",
      "=================================================================\n",
      "Total params: 806,165\n",
      "Trainable params: 806,165\n",
      "Non-trainable params: 0\n",
      "_________________________________________________________________\n",
      "CPU times: user 3min 45s, sys: 24.4 s, total: 4min 10s\n",
      "Wall time: 1min 52s\n"
     ]
    },
    {
     "data": {
      "image/png": "[encoded data removed]",
      "text/plain": [
       "<Figure size 640x480 with 1 Axes>"
      ]
     },
     "metadata": {},
     "output_type": "display_data"
    },
    {
     "data": {
      "image/png": "[encoded data removed]",
      "text/plain": [
       "<Figure size 640x480 with 1 Axes>"
      ]
     },
     "metadata": {},
     "output_type": "display_data"
    }
   ],
   "source": [
    "%%time\n",
    "\n",
    "tf.random.set_seed(33)\n",
    "\n",
    "MODEL_DIR = os.path.join(LOGDIR, 'rnn')\n",
    "shutil.rmtree(MODEL_DIR, ignore_errors=True)\n",
    "\n",
    "EPOCHS = 100\n",
    "BATCH_SIZE = 300\n",
    "EMBED_DIM = 10\n",
    "UNITS = 16\n",
    "PATIENCE = 2\n",
    "\n",
    "rnn_model = build_rnn_model(embed_dim=EMBED_DIM, units=UNITS)\n",
    "\n",
    "history = rnn_model.fit(\n",
    "    X_train, Y_train,\n",
    "    epochs=EPOCHS,\n",
    "    batch_size=BATCH_SIZE,\n",
    "    validation_data=(X_valid, Y_valid),\n",
    "    callbacks=[EarlyStopping(patience=PATIENCE), TensorBoard(MODEL_DIR)],\n",
    ")\n",
    "\n",
    "pd.DataFrame(history.history)[['loss', 'val_loss']].plot()\n",
    "pd.DataFrame(history.history)[['accuracy', 'val_accuracy']].plot()\n",
    "\n",
    "rnn_model.summary()"
   ]
  },
  {
   "cell_type": "markdown",
   "metadata": {},
   "source": [
    "### Adding dropouts, modifying activation"
   ]
  },
  {
   "cell_type": "code",
   "execution_count": 60,
   "metadata": {
    "tags": []
   },
   "outputs": [],
   "source": [
    "def build_rnn_model(embed_dim, units):\n",
    "\n",
    "    model = Sequential([\n",
    "        Embedding(input_dim=VOCAB_SIZE+1,output_dim=embed_dim,input_shape=[MAX_LEN], mask_zero=True), # TODO: Your code goes here.\n",
    "        GRU(units=units,activation='tanh',dropout=0.3), # TODO: Your code goes here.\n",
    "        Dense(N_CLASSES, activation='softmax')\n",
    "    ])\n",
    "\n",
    "    model.compile(\n",
    "        optimizer='adam',\n",
    "        loss='categorical_crossentropy',\n",
    "        metrics=['accuracy']\n",
    "    )\n",
    "    return model\n",
    "\n",
    "# Embedding,\n",
    "#     Flatten,\n",
    "#     GRU,\n",
    "#     Conv1D,\n",
    "#     Lambda,\n",
    "#     Dense,"
   ]
  },
  {
   "cell_type": "code",
   "execution_count": 61,
   "metadata": {
    "tags": []
   },
   "outputs": [
    {
     "name": "stderr",
     "output_type": "stream",
     "text": [
      "2024-02-09 16:00:23.688465: I tensorflow/core/profiler/lib/profiler_session.cc:131] Profiler session initializing.\n",
      "2024-02-09 16:00:23.688546: I tensorflow/core/profiler/lib/profiler_session.cc:146] Profiler session started.\n",
      "2024-02-09 16:00:23.688612: I tensorflow/core/profiler/lib/profiler_session.cc:164] Profiler session tear down.\n"
     ]
    },
    {
     "name": "stdout",
     "output_type": "stream",
     "text": [
      "Epoch 1/100\n",
      "  2/630 [..............................] - ETA: 1:44 - loss: 1.0968 - accuracy: 0.3850 "
     ]
    },
    {
     "name": "stderr",
     "output_type": "stream",
     "text": [
      "2024-02-09 16:00:27.718439: I tensorflow/core/profiler/lib/profiler_session.cc:131] Profiler session initializing.\n",
      "2024-02-09 16:00:27.719080: I tensorflow/core/profiler/lib/profiler_session.cc:146] Profiler session started.\n",
      "2024-02-09 16:00:27.888714: I tensorflow/core/profiler/lib/profiler_session.cc:66] Profiler session collecting data.\n",
      "2024-02-09 16:00:27.904264: I tensorflow/core/profiler/lib/profiler_session.cc:164] Profiler session tear down.\n"
     ]
    },
    {
     "name": "stdout",
     "output_type": "stream",
     "text": [
      "  5/630 [..............................] - ETA: 1:18 - loss: 1.0939 - accuracy: 0.4573"
     ]
    },
    {
     "name": "stderr",
     "output_type": "stream",
     "text": [
      "2024-02-09 16:00:27.940133: I tensorflow/core/profiler/rpc/client/save_profile.cc:136] Creating directory: ./text_models/rnn/train/plugins/profile/2024_02_09_16_00_27\n",
      "\n",
      "2024-02-09 16:00:27.961758: I tensorflow/core/profiler/rpc/client/save_profile.cc:142] Dumped gzipped tool data for trace.json.gz to ./text_models/rnn/train/plugins/profile/2024_02_09_16_00_27/instance-20240209-203504.trace.json.gz\n",
      "2024-02-09 16:00:27.977186: I tensorflow/core/profiler/rpc/client/save_profile.cc:136] Creating directory: ./text_models/rnn/train/plugins/profile/2024_02_09_16_00_27\n",
      "\n",
      "2024-02-09 16:00:27.977577: I tensorflow/core/profiler/rpc/client/save_profile.cc:142] Dumped gzipped tool data for memory_profile.json.gz to ./text_models/rnn/train/plugins/profile/2024_02_09_16_00_27/instance-20240209-203504.memory_profile.json.gz\n",
      "2024-02-09 16:00:27.978430: I tensorflow/core/profiler/rpc/client/capture_profile.cc:251] Creating directory: ./text_models/rnn/train/plugins/profile/2024_02_09_16_00_27\n",
      "Dumped tool data for xplane.pb to ./text_models/rnn/train/plugins/profile/2024_02_09_16_00_27/instance-20240209-203504.xplane.pb\n",
      "Dumped tool data for overview_page.pb to ./text_models/rnn/train/plugins/profile/2024_02_09_16_00_27/instance-20240209-203504.overview_page.pb\n",
      "Dumped tool data for input_pipeline.pb to ./text_models/rnn/train/plugins/profile/2024_02_09_16_00_27/instance-20240209-203504.input_pipeline.pb\n",
      "Dumped tool data for tensorflow_stats.pb to ./text_models/rnn/train/plugins/profile/2024_02_09_16_00_27/instance-20240209-203504.tensorflow_stats.pb\n",
      "Dumped tool data for kernel_stats.pb to ./text_models/rnn/train/plugins/profile/2024_02_09_16_00_27/instance-20240209-203504.kernel_stats.pb\n",
      "\n"
     ]
    },
    {
     "name": "stdout",
     "output_type": "stream",
     "text": [
      "630/630 [==============================] - 26s 36ms/step - loss: 0.5254 - accuracy: 0.7574 - val_loss: 0.3247 - val_accuracy: 0.8729\n",
      "Epoch 2/100\n",
      "630/630 [==============================] - 22s 34ms/step - loss: 0.2786 - accuracy: 0.8908 - val_loss: 0.2688 - val_accuracy: 0.8972\n",
      "Epoch 3/100\n",
      "630/630 [==============================] - 21s 33ms/step - loss: 0.2215 - accuracy: 0.9150 - val_loss: 0.2564 - val_accuracy: 0.9021\n",
      "Epoch 4/100\n",
      "630/630 [==============================] - 21s 34ms/step - loss: 0.1920 - accuracy: 0.9276 - val_loss: 0.2580 - val_accuracy: 0.9027\n",
      "Epoch 5/100\n",
      "630/630 [==============================] - 23s 36ms/step - loss: 0.1732 - accuracy: 0.9347 - val_loss: 0.2617 - val_accuracy: 0.9024\n",
      "Model: \"sequential_3\"\n",
      "_________________________________________________________________\n",
      "Layer (type)                 Output Shape              Param #   \n",
      "=================================================================\n",
      "embedding_3 (Embedding)      (None, 25, 10)            804770    \n",
      "_________________________________________________________________\n",
      "gru_1 (GRU)                  (None, 16)                1344      \n",
      "_________________________________________________________________\n",
      "dense_3 (Dense)              (None, 3)                 51        \n",
      "=================================================================\n",
      "Total params: 806,165\n",
      "Trainable params: 806,165\n",
      "Non-trainable params: 0\n",
      "_________________________________________________________________\n",
      "CPU times: user 3min 46s, sys: 24.6 s, total: 4min 10s\n",
      "Wall time: 1min 54s\n"
     ]
    },
    {
     "data": {
      "image/png": "[encoded data removed]",
      "text/plain": [
       "<Figure size 640x480 with 1 Axes>"
      ]
     },
     "metadata": {},
     "output_type": "display_data"
    },
    {
     "data": {
      "image/png": "[encoded data removed]",
      "text/plain": [
       "<Figure size 640x480 with 1 Axes>"
      ]
     },
     "metadata": {},
     "output_type": "display_data"
    }
   ],
   "source": [
    "%%time\n",
    "\n",
    "tf.random.set_seed(33)\n",
    "\n",
    "MODEL_DIR = os.path.join(LOGDIR, 'rnn')\n",
    "shutil.rmtree(MODEL_DIR, ignore_errors=True)\n",
    "\n",
    "EPOCHS = 100\n",
    "BATCH_SIZE = 300\n",
    "EMBED_DIM = 10\n",
    "UNITS = 16\n",
    "PATIENCE = 2\n",
    "\n",
    "rnn_model = build_rnn_model(embed_dim=EMBED_DIM, units=UNITS)\n",
    "\n",
    "history = rnn_model.fit(\n",
    "    X_train, Y_train,\n",
    "    epochs=EPOCHS,\n",
    "    batch_size=BATCH_SIZE,\n",
    "    validation_data=(X_valid, Y_valid),\n",
    "    callbacks=[EarlyStopping(patience=PATIENCE), TensorBoard(MODEL_DIR)],\n",
    ")\n",
    "\n",
    "pd.DataFrame(history.history)[['loss', 'val_loss']].plot()\n",
    "pd.DataFrame(history.history)[['accuracy', 'val_accuracy']].plot()\n",
    "\n",
    "rnn_model.summary()"
   ]
  },
  {
   "cell_type": "code",
   "execution_count": null,
   "metadata": {},
   "outputs": [],
   "source": []
  },
  {
   "cell_type": "markdown",
   "metadata": {},
   "source": [
    "## Build a CNN model"
   ]
  },
  {
   "cell_type": "markdown",
   "metadata": {},
   "source": [
    "The `build_dnn_model` function below returns a compiled Keras model that implements a simple CNN model with a single `Conv1D` layer, which now takes into account the word order in the sentence.\n",
    "\n",
    "The first and last layers are the same as for the simple DNN model, but we need to add a `Flatten` layer betwen the convolution and the softmax layer.\n",
    "\n",
    "Note that we set `mask_zero=True` in the `Embedding` layer so that the padded words (represented by a zero) are ignored by this and the subsequent layers.\n"
   ]
  },
  {
   "cell_type": "markdown",
   "metadata": {},
   "source": [
    "### Lab Task #4 and #6\n",
    "Complete the code below to create a CNN model for text classification. This model is similar to the previous models in that you should start with an embedding layer. However, the embedding next layers should pass through a 1-dimensional convolution and ultimately the final fully connected, dense layer. Use the arguments of the `build_cnn_model` function to set up the 1D convolution layer. "
   ]
  },
  {
   "cell_type": "code",
   "execution_count": 64,
   "metadata": {
    "tags": []
   },
   "outputs": [],
   "source": [
    "def build_cnn_model(embed_dim, filters, ksize, strides):\n",
    "\n",
    "    model = Sequential([\n",
    "        Embedding(input_dim=VOCAB_SIZE+1,output_dim=embed_dim,input_shape=[MAX_LEN], mask_zero=True), # TODO: Your code goes here.\n",
    "        Conv1D(filters=filters,kernel_size=ksize,strides=strides,activation='relu'), # TODO: Your code goes here.\n",
    "        Flatten(), # TODO: Your code goes here.\n",
    "        Dense(N_CLASSES, activation='softmax')\n",
    "    ])\n",
    "\n",
    "    model.compile(\n",
    "        optimizer='adam',\n",
    "        loss='categorical_crossentropy',\n",
    "        metrics=['accuracy']\n",
    "    )\n",
    "    return model\n",
    "\n",
    "# Embedding,\n",
    "#     Flatten,\n",
    "#     GRU,\n",
    "#     Conv1D,\n",
    "#     Lambda,\n",
    "#     Dense,"
   ]
  },
  {
   "cell_type": "markdown",
   "metadata": {},
   "source": [
    "Let's train the model. \n",
    "\n",
    "Again we observe that we get the same kind of accuracy as with the DNN model but in many fewer steps.\n",
    "\n"
   ]
  },
  {
   "cell_type": "code",
   "execution_count": 65,
   "metadata": {
    "tags": []
   },
   "outputs": [
    {
     "name": "stderr",
     "output_type": "stream",
     "text": [
      "2024-02-09 16:05:55.092905: I tensorflow/core/profiler/lib/profiler_session.cc:131] Profiler session initializing.\n",
      "2024-02-09 16:05:55.092983: I tensorflow/core/profiler/lib/profiler_session.cc:146] Profiler session started.\n",
      "2024-02-09 16:05:55.093037: I tensorflow/core/profiler/lib/profiler_session.cc:164] Profiler session tear down.\n"
     ]
    },
    {
     "name": "stdout",
     "output_type": "stream",
     "text": [
      "Epoch 1/100\n",
      "  8/630 [..............................] - ETA: 15s - loss: 1.0770 - accuracy: 0.5021"
     ]
    },
    {
     "name": "stderr",
     "output_type": "stream",
     "text": [
      "2024-02-09 16:05:55.615367: I tensorflow/core/profiler/lib/profiler_session.cc:131] Profiler session initializing.\n",
      "2024-02-09 16:05:55.615432: I tensorflow/core/profiler/lib/profiler_session.cc:146] Profiler session started.\n",
      "2024-02-09 16:05:55.697094: I tensorflow/core/profiler/lib/profiler_session.cc:66] Profiler session collecting data.\n",
      "2024-02-09 16:05:55.698191: I tensorflow/core/profiler/lib/profiler_session.cc:164] Profiler session tear down.\n",
      "2024-02-09 16:05:55.700000: I tensorflow/core/profiler/rpc/client/save_profile.cc:136] Creating directory: ./text_models/cnn/train/plugins/profile/2024_02_09_16_05_55\n",
      "\n",
      "2024-02-09 16:05:55.700939: I tensorflow/core/profiler/rpc/client/save_profile.cc:142] Dumped gzipped tool data for trace.json.gz to ./text_models/cnn/train/plugins/profile/2024_02_09_16_05_55/instance-20240209-203504.trace.json.gz\n",
      "2024-02-09 16:05:55.702392: I tensorflow/core/profiler/rpc/client/save_profile.cc:136] Creating directory: ./text_models/cnn/train/plugins/profile/2024_02_09_16_05_55\n",
      "\n",
      "2024-02-09 16:05:55.702499: I tensorflow/core/profiler/rpc/client/save_profile.cc:142] Dumped gzipped tool data for memory_profile.json.gz to ./text_models/cnn/train/plugins/profile/2024_02_09_16_05_55/instance-20240209-203504.memory_profile.json.gz\n",
      "2024-02-09 16:05:55.702737: I tensorflow/core/profiler/rpc/client/capture_profile.cc:251] Creating directory: ./text_models/cnn/train/plugins/profile/2024_02_09_16_05_55\n",
      "Dumped tool data for xplane.pb to ./text_models/cnn/train/plugins/profile/2024_02_09_16_05_55/instance-20240209-203504.xplane.pb\n",
      "Dumped tool data for overview_page.pb to ./text_models/cnn/train/plugins/profile/2024_02_09_16_05_55/instance-20240209-203504.overview_page.pb\n",
      "Dumped tool data for input_pipeline.pb to ./text_models/cnn/train/plugins/profile/2024_02_09_16_05_55/instance-20240209-203504.input_pipeline.pb\n",
      "Dumped tool data for tensorflow_stats.pb to ./text_models/cnn/train/plugins/profile/2024_02_09_16_05_55/instance-20240209-203504.tensorflow_stats.pb\n",
      "Dumped tool data for kernel_stats.pb to ./text_models/cnn/train/plugins/profile/2024_02_09_16_05_55/instance-20240209-203504.kernel_stats.pb\n",
      "\n"
     ]
    },
    {
     "name": "stdout",
     "output_type": "stream",
     "text": [
      "630/630 [==============================] - 9s 13ms/step - loss: 0.4291 - accuracy: 0.8139 - val_loss: 0.2738 - val_accuracy: 0.8934\n",
      "Epoch 2/100\n",
      "630/630 [==============================] - 8s 13ms/step - loss: 0.2231 - accuracy: 0.9148 - val_loss: 0.2588 - val_accuracy: 0.9005\n",
      "Epoch 3/100\n",
      "630/630 [==============================] - 8s 13ms/step - loss: 0.1738 - accuracy: 0.9349 - val_loss: 0.2598 - val_accuracy: 0.9023\n",
      "Epoch 4/100\n",
      "630/630 [==============================] - 8s 13ms/step - loss: 0.1408 - accuracy: 0.9482 - val_loss: 0.2829 - val_accuracy: 0.8990\n",
      "Model: \"sequential_4\"\n",
      "_________________________________________________________________\n",
      "Layer (type)                 Output Shape              Param #   \n",
      "=================================================================\n",
      "embedding_4 (Embedding)      (None, 25, 5)             402385    \n",
      "_________________________________________________________________\n",
      "conv1d (Conv1D)              (None, 12, 200)           3200      \n",
      "_________________________________________________________________\n",
      "flatten (Flatten)            (None, 2400)              0         \n",
      "_________________________________________________________________\n",
      "dense_4 (Dense)              (None, 3)                 7203      \n",
      "=================================================================\n",
      "Total params: 412,788\n",
      "Trainable params: 412,788\n",
      "Non-trainable params: 0\n",
      "_________________________________________________________________\n",
      "CPU times: user 1min 16s, sys: 4.25 s, total: 1min 20s\n",
      "Wall time: 41.6 s\n"
     ]
    },
    {
     "data": {
      "image/png": "[encoded data removed]",
      "text/plain": [
       "<Figure size 640x480 with 1 Axes>"
      ]
     },
     "metadata": {},
     "output_type": "display_data"
    },
    {
     "data": {
      "image/png": "[encoded data removed]",
      "text/plain": [
       "<Figure size 640x480 with 1 Axes>"
      ]
     },
     "metadata": {},
     "output_type": "display_data"
    }
   ],
   "source": [
    "%%time\n",
    "\n",
    "tf.random.set_seed(33)\n",
    "\n",
    "MODEL_DIR = os.path.join(LOGDIR, 'cnn')\n",
    "shutil.rmtree(MODEL_DIR, ignore_errors=True)\n",
    "\n",
    "EPOCHS = 100\n",
    "BATCH_SIZE = 300\n",
    "EMBED_DIM = 5\n",
    "FILTERS = 200\n",
    "STRIDES = 2\n",
    "KSIZE = 3\n",
    "PATIENCE = 3\n",
    "\n",
    "cnn_model = build_cnn_model(\n",
    "    embed_dim=EMBED_DIM,\n",
    "    filters=FILTERS,\n",
    "    strides=STRIDES,\n",
    "    ksize=KSIZE,\n",
    ")\n",
    "\n",
    "cnn_history = cnn_model.fit(\n",
    "    X_train, Y_train,\n",
    "    epochs=EPOCHS,\n",
    "    batch_size=BATCH_SIZE,\n",
    "    validation_data=(X_valid, Y_valid),\n",
    "    callbacks=[EarlyStopping(patience=PATIENCE), TensorBoard(MODEL_DIR)],\n",
    ")\n",
    "\n",
    "pd.DataFrame(cnn_history.history)[['loss', 'val_loss']].plot()\n",
    "pd.DataFrame(cnn_history.history)[['accuracy', 'val_accuracy']].plot()\n",
    "\n",
    "cnn_model.summary()"
   ]
  },
  {
   "cell_type": "markdown",
   "metadata": {},
   "source": [
    "### Playing with the configuration to improve results"
   ]
  },
  {
   "cell_type": "code",
   "execution_count": 66,
   "metadata": {
    "tags": []
   },
   "outputs": [
    {
     "name": "stderr",
     "output_type": "stream",
     "text": [
      "2024-02-09 16:08:30.957752: I tensorflow/core/profiler/lib/profiler_session.cc:131] Profiler session initializing.\n",
      "2024-02-09 16:08:30.957807: I tensorflow/core/profiler/lib/profiler_session.cc:146] Profiler session started.\n",
      "2024-02-09 16:08:30.958383: I tensorflow/core/profiler/lib/profiler_session.cc:164] Profiler session tear down.\n"
     ]
    },
    {
     "name": "stdout",
     "output_type": "stream",
     "text": [
      "Epoch 1/100\n",
      "  8/378 [..............................] - ETA: 11s - loss: 1.0758 - accuracy: 0.4933"
     ]
    },
    {
     "name": "stderr",
     "output_type": "stream",
     "text": [
      "2024-02-09 16:08:31.480616: I tensorflow/core/profiler/lib/profiler_session.cc:131] Profiler session initializing.\n",
      "2024-02-09 16:08:31.480671: I tensorflow/core/profiler/lib/profiler_session.cc:146] Profiler session started.\n",
      "2024-02-09 16:08:31.530950: I tensorflow/core/profiler/lib/profiler_session.cc:66] Profiler session collecting data.\n",
      "2024-02-09 16:08:31.531961: I tensorflow/core/profiler/lib/profiler_session.cc:164] Profiler session tear down.\n",
      "2024-02-09 16:08:31.533588: I tensorflow/core/profiler/rpc/client/save_profile.cc:136] Creating directory: ./text_models/cnn/train/plugins/profile/2024_02_09_16_08_31\n",
      "\n",
      "2024-02-09 16:08:31.534590: I tensorflow/core/profiler/rpc/client/save_profile.cc:142] Dumped gzipped tool data for trace.json.gz to ./text_models/cnn/train/plugins/profile/2024_02_09_16_08_31/instance-20240209-203504.trace.json.gz\n",
      "2024-02-09 16:08:31.536062: I tensorflow/core/profiler/rpc/client/save_profile.cc:136] Creating directory: ./text_models/cnn/train/plugins/profile/2024_02_09_16_08_31\n",
      "\n",
      "2024-02-09 16:08:31.536167: I tensorflow/core/profiler/rpc/client/save_profile.cc:142] Dumped gzipped tool data for memory_profile.json.gz to ./text_models/cnn/train/plugins/profile/2024_02_09_16_08_31/instance-20240209-203504.memory_profile.json.gz\n",
      "2024-02-09 16:08:31.536500: I tensorflow/core/profiler/rpc/client/capture_profile.cc:251] Creating directory: ./text_models/cnn/train/plugins/profile/2024_02_09_16_08_31\n",
      "Dumped tool data for xplane.pb to ./text_models/cnn/train/plugins/profile/2024_02_09_16_08_31/instance-20240209-203504.xplane.pb\n",
      "Dumped tool data for overview_page.pb to ./text_models/cnn/train/plugins/profile/2024_02_09_16_08_31/instance-20240209-203504.overview_page.pb\n",
      "Dumped tool data for input_pipeline.pb to ./text_models/cnn/train/plugins/profile/2024_02_09_16_08_31/instance-20240209-203504.input_pipeline.pb\n",
      "Dumped tool data for tensorflow_stats.pb to ./text_models/cnn/train/plugins/profile/2024_02_09_16_08_31/instance-20240209-203504.tensorflow_stats.pb\n",
      "Dumped tool data for kernel_stats.pb to ./text_models/cnn/train/plugins/profile/2024_02_09_16_08_31/instance-20240209-203504.kernel_stats.pb\n",
      "\n"
     ]
    },
    {
     "name": "stdout",
     "output_type": "stream",
     "text": [
      "378/378 [==============================] - 8s 21ms/step - loss: 0.4848 - accuracy: 0.7786 - val_loss: 0.2872 - val_accuracy: 0.8874\n",
      "Epoch 2/100\n",
      "378/378 [==============================] - 8s 20ms/step - loss: 0.2303 - accuracy: 0.9114 - val_loss: 0.2612 - val_accuracy: 0.8992\n",
      "Epoch 3/100\n",
      "378/378 [==============================] - 8s 20ms/step - loss: 0.1739 - accuracy: 0.9352 - val_loss: 0.2583 - val_accuracy: 0.9034\n",
      "Epoch 4/100\n",
      "378/378 [==============================] - 8s 20ms/step - loss: 0.1386 - accuracy: 0.9495 - val_loss: 0.2771 - val_accuracy: 0.9000\n",
      "Epoch 5/100\n",
      "378/378 [==============================] - 8s 22ms/step - loss: 0.1112 - accuracy: 0.9610 - val_loss: 0.2939 - val_accuracy: 0.9010\n",
      "Epoch 6/100\n",
      "378/378 [==============================] - 8s 20ms/step - loss: 0.0896 - accuracy: 0.9688 - val_loss: 0.3207 - val_accuracy: 0.9004\n",
      "Model: \"sequential_5\"\n",
      "_________________________________________________________________\n",
      "Layer (type)                 Output Shape              Param #   \n",
      "=================================================================\n",
      "embedding_5 (Embedding)      (None, 25, 10)            804770    \n",
      "_________________________________________________________________\n",
      "conv1d_1 (Conv1D)            (None, 12, 200)           6200      \n",
      "_________________________________________________________________\n",
      "flatten_1 (Flatten)          (None, 2400)              0         \n",
      "_________________________________________________________________\n",
      "dense_5 (Dense)              (None, 3)                 7203      \n",
      "=================================================================\n",
      "Total params: 818,173\n",
      "Trainable params: 818,173\n",
      "Non-trainable params: 0\n",
      "_________________________________________________________________\n",
      "CPU times: user 2min 1s, sys: 4.17 s, total: 2min 5s\n",
      "Wall time: 1min 22s\n"
     ]
    },
    {
     "data": {
      "image/png": "[encoded data removed]",
      "text/plain": [
       "<Figure size 640x480 with 1 Axes>"
      ]
     },
     "metadata": {},
     "output_type": "display_data"
    },
    {
     "data": {
      "image/png": "[encoded data removed]",
      "text/plain": [
       "<Figure size 640x480 with 1 Axes>"
      ]
     },
     "metadata": {},
     "output_type": "display_data"
    }
   ],
   "source": [
    "%%time\n",
    "\n",
    "tf.random.set_seed(33)\n",
    "\n",
    "MODEL_DIR = os.path.join(LOGDIR, 'cnn')\n",
    "shutil.rmtree(MODEL_DIR, ignore_errors=True)\n",
    "\n",
    "EPOCHS = 100\n",
    "BATCH_SIZE = 500\n",
    "EMBED_DIM = 10\n",
    "FILTERS = 200\n",
    "STRIDES = 2\n",
    "KSIZE = 3\n",
    "PATIENCE = 3\n",
    "\n",
    "cnn_model = build_cnn_model(\n",
    "    embed_dim=EMBED_DIM,\n",
    "    filters=FILTERS,\n",
    "    strides=STRIDES,\n",
    "    ksize=KSIZE,\n",
    ")\n",
    "\n",
    "cnn_history = cnn_model.fit(\n",
    "    X_train, Y_train,\n",
    "    epochs=EPOCHS,\n",
    "    batch_size=BATCH_SIZE,\n",
    "    validation_data=(X_valid, Y_valid),\n",
    "    callbacks=[EarlyStopping(patience=PATIENCE), TensorBoard(MODEL_DIR)],\n",
    ")\n",
    "\n",
    "pd.DataFrame(cnn_history.history)[['loss', 'val_loss']].plot()\n",
    "pd.DataFrame(cnn_history.history)[['accuracy', 'val_accuracy']].plot()\n",
    "\n",
    "cnn_model.summary()"
   ]
  },
  {
   "cell_type": "code",
   "execution_count": 68,
   "metadata": {
    "tags": []
   },
   "outputs": [],
   "source": [
    "from tensorflow.keras.layers import MaxPooling1D, Dropout"
   ]
  },
  {
   "cell_type": "code",
   "execution_count": 70,
   "metadata": {
    "tags": []
   },
   "outputs": [],
   "source": [
    "def build_cnn_model(embed_dim, filters, ksize, strides, dropout_rate):\n",
    "\n",
    "    model = Sequential([\n",
    "        Embedding(input_dim=VOCAB_SIZE+1,output_dim=embed_dim,input_shape=[MAX_LEN], mask_zero=True), # TODO: Your code goes here.\n",
    "        Conv1D(filters=filters,kernel_size=ksize,strides=strides,activation='relu'), # TODO: Your code goes here.\n",
    "        MaxPooling1D(pool_size=2),\n",
    "        Flatten(), # TODO: Your code goes here.\n",
    "        Dropout(rate=dropout_rate),\n",
    "        Dense(N_CLASSES, activation='softmax')\n",
    "    ])\n",
    "\n",
    "    model.compile(\n",
    "        optimizer='adam',\n",
    "        loss='categorical_crossentropy',\n",
    "        metrics=['accuracy']\n",
    "    )\n",
    "    return model\n",
    "\n",
    "# Embedding,\n",
    "#     Flatten,\n",
    "#     GRU,\n",
    "#     Conv1D,\n",
    "#     Lambda,\n",
    "#     Dense,"
   ]
  },
  {
   "cell_type": "code",
   "execution_count": 71,
   "metadata": {
    "tags": []
   },
   "outputs": [
    {
     "name": "stderr",
     "output_type": "stream",
     "text": [
      "2024-02-09 16:16:09.632940: I tensorflow/core/profiler/lib/profiler_session.cc:131] Profiler session initializing.\n",
      "2024-02-09 16:16:09.633353: I tensorflow/core/profiler/lib/profiler_session.cc:146] Profiler session started.\n",
      "2024-02-09 16:16:09.633927: I tensorflow/core/profiler/lib/profiler_session.cc:164] Profiler session tear down.\n"
     ]
    },
    {
     "name": "stdout",
     "output_type": "stream",
     "text": [
      "Epoch 1/100\n",
      "  7/378 [..............................] - ETA: 13s - loss: 1.0811 - accuracy: 0.5000"
     ]
    },
    {
     "name": "stderr",
     "output_type": "stream",
     "text": [
      "2024-02-09 16:16:10.191717: I tensorflow/core/profiler/lib/profiler_session.cc:131] Profiler session initializing.\n",
      "2024-02-09 16:16:10.191776: I tensorflow/core/profiler/lib/profiler_session.cc:146] Profiler session started.\n",
      "2024-02-09 16:16:10.245406: I tensorflow/core/profiler/lib/profiler_session.cc:66] Profiler session collecting data.\n",
      "2024-02-09 16:16:10.246744: I tensorflow/core/profiler/lib/profiler_session.cc:164] Profiler session tear down.\n",
      "2024-02-09 16:16:10.248578: I tensorflow/core/profiler/rpc/client/save_profile.cc:136] Creating directory: ./text_models/cnn/train/plugins/profile/2024_02_09_16_16_10\n",
      "\n",
      "2024-02-09 16:16:10.249664: I tensorflow/core/profiler/rpc/client/save_profile.cc:142] Dumped gzipped tool data for trace.json.gz to ./text_models/cnn/train/plugins/profile/2024_02_09_16_16_10/instance-20240209-203504.trace.json.gz\n",
      "2024-02-09 16:16:10.251235: I tensorflow/core/profiler/rpc/client/save_profile.cc:136] Creating directory: ./text_models/cnn/train/plugins/profile/2024_02_09_16_16_10\n",
      "\n",
      "2024-02-09 16:16:10.251431: I tensorflow/core/profiler/rpc/client/save_profile.cc:142] Dumped gzipped tool data for memory_profile.json.gz to ./text_models/cnn/train/plugins/profile/2024_02_09_16_16_10/instance-20240209-203504.memory_profile.json.gz\n",
      "2024-02-09 16:16:10.251899: I tensorflow/core/profiler/rpc/client/capture_profile.cc:251] Creating directory: ./text_models/cnn/train/plugins/profile/2024_02_09_16_16_10\n",
      "Dumped tool data for xplane.pb to ./text_models/cnn/train/plugins/profile/2024_02_09_16_16_10/instance-20240209-203504.xplane.pb\n",
      "Dumped tool data for overview_page.pb to ./text_models/cnn/train/plugins/profile/2024_02_09_16_16_10/instance-20240209-203504.overview_page.pb\n",
      "Dumped tool data for input_pipeline.pb to ./text_models/cnn/train/plugins/profile/2024_02_09_16_16_10/instance-20240209-203504.input_pipeline.pb\n",
      "Dumped tool data for tensorflow_stats.pb to ./text_models/cnn/train/plugins/profile/2024_02_09_16_16_10/instance-20240209-203504.tensorflow_stats.pb\n",
      "Dumped tool data for kernel_stats.pb to ./text_models/cnn/train/plugins/profile/2024_02_09_16_16_10/instance-20240209-203504.kernel_stats.pb\n",
      "\n"
     ]
    },
    {
     "name": "stdout",
     "output_type": "stream",
     "text": [
      "378/378 [==============================] - 11s 28ms/step - loss: 0.5186 - accuracy: 0.7635 - val_loss: 0.2968 - val_accuracy: 0.8833\n",
      "Epoch 2/100\n",
      "378/378 [==============================] - 11s 28ms/step - loss: 0.2466 - accuracy: 0.9046 - val_loss: 0.2630 - val_accuracy: 0.8979\n",
      "Epoch 3/100\n",
      "378/378 [==============================] - 11s 28ms/step - loss: 0.1888 - accuracy: 0.9289 - val_loss: 0.2583 - val_accuracy: 0.9026\n",
      "Epoch 4/100\n",
      "378/378 [==============================] - 11s 29ms/step - loss: 0.1541 - accuracy: 0.9435 - val_loss: 0.2687 - val_accuracy: 0.9019\n",
      "Epoch 5/100\n",
      "378/378 [==============================] - 11s 29ms/step - loss: 0.1275 - accuracy: 0.9540 - val_loss: 0.2842 - val_accuracy: 0.9018\n",
      "Epoch 6/100\n",
      "378/378 [==============================] - 11s 29ms/step - loss: 0.1059 - accuracy: 0.9620 - val_loss: 0.3040 - val_accuracy: 0.9015\n",
      "Model: \"sequential_6\"\n",
      "_________________________________________________________________\n",
      "Layer (type)                 Output Shape              Param #   \n",
      "=================================================================\n",
      "embedding_6 (Embedding)      (None, 25, 10)            804770    \n",
      "_________________________________________________________________\n",
      "conv1d_2 (Conv1D)            (None, 12, 200)           6200      \n",
      "_________________________________________________________________\n",
      "max_pooling1d (MaxPooling1D) (None, 6, 200)            0         \n",
      "_________________________________________________________________\n",
      "flatten_2 (Flatten)          (None, 1200)              0         \n",
      "_________________________________________________________________\n",
      "dropout (Dropout)            (None, 1200)              0         \n",
      "_________________________________________________________________\n",
      "dense_6 (Dense)              (None, 3)                 3603      \n",
      "=================================================================\n",
      "Total params: 814,573\n",
      "Trainable params: 814,573\n",
      "Non-trainable params: 0\n",
      "_________________________________________________________________\n",
      "CPU times: user 2min 44s, sys: 5.92 s, total: 2min 50s\n",
      "Wall time: 1min 5s\n"
     ]
    },
    {
     "data": {
      "image/png": "[encoded data removed]",
      "text/plain": [
       "<Figure size 640x480 with 1 Axes>"
      ]
     },
     "metadata": {},
     "output_type": "display_data"
    },
    {
     "data": {
      "image/png": "[encoded data removed]",
      "text/plain": [
       "<Figure size 640x480 with 1 Axes>"
      ]
     },
     "metadata": {},
     "output_type": "display_data"
    }
   ],
   "source": [
    "%%time\n",
    "\n",
    "tf.random.set_seed(33)\n",
    "\n",
    "MODEL_DIR = os.path.join(LOGDIR, 'cnn')\n",
    "shutil.rmtree(MODEL_DIR, ignore_errors=True)\n",
    "\n",
    "EPOCHS = 100\n",
    "BATCH_SIZE = 500\n",
    "EMBED_DIM = 10\n",
    "FILTERS = 200\n",
    "STRIDES = 2\n",
    "KSIZE = 3\n",
    "PATIENCE = 3\n",
    "DROPOUT_VAL = 0.2\n",
    "\n",
    "cnn_model = build_cnn_model(\n",
    "    embed_dim=EMBED_DIM,\n",
    "    filters=FILTERS,\n",
    "    strides=STRIDES,\n",
    "    ksize=KSIZE,\n",
    "    dropout_rate=DROPOUT_VAL\n",
    ")\n",
    "\n",
    "cnn_history = cnn_model.fit(\n",
    "    X_train, Y_train,\n",
    "    epochs=EPOCHS,\n",
    "    batch_size=BATCH_SIZE,\n",
    "    validation_data=(X_valid, Y_valid),\n",
    "    callbacks=[EarlyStopping(patience=PATIENCE), TensorBoard(MODEL_DIR)],\n",
    ")\n",
    "\n",
    "pd.DataFrame(cnn_history.history)[['loss', 'val_loss']].plot()\n",
    "pd.DataFrame(cnn_history.history)[['accuracy', 'val_accuracy']].plot()\n",
    "\n",
    "cnn_model.summary()"
   ]
  },
  {
   "cell_type": "markdown",
   "metadata": {},
   "source": [
    "Copyright 2022 Google Inc. Licensed under the Apache License, Version 2.0 (the \"License\"); you may not use this file except in compliance with the License. You may obtain a copy of the License at http://www.apache.org/licenses/LICENSE-2.0 Unless required by applicable law or agreed to in writing, software distributed under the License is distributed on an \"AS IS\" BASIS, WITHOUT WARRANTIES OR CONDITIONS OF ANY KIND, either express or implied. See the License for the specific language governing permissions and limitations under the License"
   ]
  }
 ],
 "metadata": {
  "environment": {
   "kernel": "python3",
   "name": "tf2-gpu.2-6.m116",
   "type": "gcloud",
   "uri": "gcr.io/deeplearning-platform-release/tf2-gpu.2-6:m116"
  },
  "kernelspec": {
   "display_name": "Python 3 (Local)",
   "language": "python",
   "name": "python3"
  },
  "language_info": {
   "codemirror_mode": {
    "name": "ipython",
    "version": 3
   },
   "file_extension": ".py",
   "mimetype": "text/x-python",
   "name": "python",
   "nbconvert_exporter": "python",
   "pygments_lexer": "ipython3",
   "version": "3.9.18"
  }
 },
 "nbformat": 4,
 "nbformat_minor": 4
}
